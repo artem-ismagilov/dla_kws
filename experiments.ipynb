{
 "cells": [
  {
   "cell_type": "markdown",
   "metadata": {
    "cellId": "foe5ve1wwaw13ufxnnm4avj",
    "execution_id": "966fe9f0-e8d4-49ea-b15f-6360270f9df1",
    "id": "_lhrn5O-qUYZ"
   },
   "source": [
    "# Import and misc"
   ]
  },
  {
   "cell_type": "code",
   "execution_count": 273,
   "metadata": {
    "cellId": "nqpm5rvbdkgzb8818gxnh",
    "id": "bbUpoArCqUYa"
   },
   "outputs": [
    {
     "name": "stderr",
     "output_type": "stream",
     "text": [
      "Global seed set to 228\n"
     ]
    },
    {
     "data": {
      "text/plain": [
       "228"
      ]
     },
     "execution_count": 273,
     "metadata": {},
     "output_type": "execute_result"
    }
   ],
   "source": [
    "#!g2.mig\n",
    "from typing import Tuple, Union, List, Callable, Optional\n",
    "from tqdm import tqdm\n",
    "from itertools import islice\n",
    "import pathlib\n",
    "import dataclasses\n",
    "\n",
    "import numpy as np\n",
    "import pandas as pd\n",
    "\n",
    "import torch\n",
    "import torch.nn.functional as F\n",
    "from torch import nn\n",
    "from torch import distributions\n",
    "from torch.utils.data import DataLoader, Dataset, WeightedRandomSampler\n",
    "from torch.nn.utils.rnn import pad_sequence\n",
    "\n",
    "import torchaudio\n",
    "from IPython import display as display_\n",
    "import pytorch_lightning as pl\n",
    "\n",
    "pl.seed_everything(228)"
   ]
  },
  {
   "cell_type": "markdown",
   "metadata": {
    "cellId": "gubv480vn5abqx3d8dsmyi",
    "execution_id": "2cdff565-caaa-489c-b156-ad70a748be83",
    "id": "812GwLfqqUYf"
   },
   "source": [
    "# Task"
   ]
  },
  {
   "cell_type": "markdown",
   "metadata": {
    "cellId": "catg63xlgkhg9naclhs6ef",
    "execution_id": "0a50e1a5-5058-4de5-9893-bcc6823854fb",
    "id": "i1DuQIyRqUYf"
   },
   "source": [
    "In this notebook we will implement a model for finding a keyword in a stream.\n",
    "\n",
    "We will implement the version with CRNN because it is easy and improves the model. \n",
    "(from https://www.dropbox.com/s/22ah2ba7dug6pzw/KWS_Attention.pdf)"
   ]
  },
  {
   "cell_type": "code",
   "execution_count": 274,
   "metadata": {
    "cellId": "ejbp0ezjvufme8d79pnoed",
    "id": "8PdhApeEh9pH"
   },
   "outputs": [],
   "source": [
    "#!g2.mig\n",
    "@dataclasses.dataclass\n",
    "class TaskConfig:\n",
    "    keyword: str = 'sheila'  # We will use 1 key word -- 'sheila'\n",
    "    batch_size: int = 128\n",
    "    learning_rate: float = 3e-4\n",
    "    weight_decay: float = 1e-5\n",
    "    num_epochs: int = 20\n",
    "    n_mels: int = 40\n",
    "    cnn_out_channels: int = 8\n",
    "    kernel_size: Tuple[int, int] = (5, 20)\n",
    "    stride: Tuple[int, int] = (2, 8)\n",
    "    hidden_size: int = 64\n",
    "    gru_num_layers: int = 2\n",
    "    bidirectional: bool = False\n",
    "    num_classes: int = 2\n",
    "    sample_rate: int = 16000\n",
    "    device: torch.device = torch.device(\n",
    "        'cuda:0' if torch.cuda.is_available() else 'cpu')"
   ]
  },
  {
   "cell_type": "markdown",
   "metadata": {
    "cellId": "gke8a173zk27l4wwbztu8",
    "execution_id": "63e40eb6-9eed-4761-9b61-47c67cdde3f4",
    "id": "KA1gPmE1h9pI"
   },
   "source": [
    "# Data"
   ]
  },
  {
   "cell_type": "code",
   "execution_count": 275,
   "metadata": {
    "cellId": "eb03f2sjzs9o3y6nocdhpr",
    "colab": {
     "base_uri": "https://localhost:8080/"
    },
    "id": "Y2N8zcx9MF1X",
    "outputId": "7f8235e9-e2dd-4e33-cabe-07b92c0f2c36"
   },
   "outputs": [],
   "source": [
    "#!g2.mig\n",
    "# !wget http://download.tensorflow.org/data/speech_commands_v0.01.tar.gz -O speech_commands_v0.01.tar.gz\n",
    "# !mkdir speech_commands && tar -C speech_commands -xvzf speech_commands_v0.01.tar.gz 1> log"
   ]
  },
  {
   "cell_type": "code",
   "execution_count": 276,
   "metadata": {
    "cellId": "okdn73of1f9dnhjhzkt5zo",
    "id": "12wBTK0mNUsG"
   },
   "outputs": [],
   "source": [
    "#!g2.mig\n",
    "class SpeechCommandDataset(Dataset):\n",
    "\n",
    "    def __init__(\n",
    "        self,\n",
    "        transform: Optional[Callable] = None,\n",
    "        path2dir: str = None,\n",
    "        keywords: Union[str, List[str]] = None,\n",
    "        csv: Optional[pd.DataFrame] = None\n",
    "    ):        \n",
    "        self.transform = transform\n",
    "\n",
    "        if csv is None:\n",
    "            path2dir = pathlib.Path(path2dir)\n",
    "            keywords = keywords if isinstance(keywords, list) else [keywords]\n",
    "            \n",
    "            all_keywords = [\n",
    "                p.stem for p in path2dir.glob('*')\n",
    "                if p.is_dir() and not p.stem.startswith('_')\n",
    "            ]\n",
    "\n",
    "            triplets = []\n",
    "            for keyword in all_keywords:\n",
    "                paths = (path2dir / keyword).rglob('*.wav')\n",
    "                if keyword in keywords:\n",
    "                    for path2wav in paths:\n",
    "                        triplets.append((path2wav.as_posix(), keyword, 1))\n",
    "                else:\n",
    "                    for path2wav in paths:\n",
    "                        triplets.append((path2wav.as_posix(), keyword, 0))\n",
    "            \n",
    "            self.csv = pd.DataFrame(\n",
    "                triplets,\n",
    "                columns=['path', 'keyword', 'label']\n",
    "            )\n",
    "\n",
    "        else:\n",
    "            self.csv = csv\n",
    "    \n",
    "    def __getitem__(self, index: int):\n",
    "        instance = self.csv.iloc[index]\n",
    "\n",
    "        path2wav = instance['path']\n",
    "        wav, sr = torchaudio.load(path2wav)\n",
    "        wav = wav.sum(dim=0)\n",
    "        \n",
    "        if self.transform:\n",
    "            wav = self.transform(wav)\n",
    "\n",
    "        return {\n",
    "            'wav': wav,\n",
    "            'keywors': instance['keyword'],\n",
    "            'label': instance['label']\n",
    "        }\n",
    "\n",
    "    def __len__(self):\n",
    "        return len(self.csv)"
   ]
  },
  {
   "cell_type": "code",
   "execution_count": 277,
   "metadata": {
    "cellId": "cq5lm6fu8cil77qlevsbm",
    "id": "-1rVkT81Pk90"
   },
   "outputs": [],
   "source": [
    "#!g2.mig\n",
    "dataset = SpeechCommandDataset(\n",
    "    path2dir='speech_commands', keywords=TaskConfig.keyword\n",
    ")"
   ]
  },
  {
   "cell_type": "code",
   "execution_count": 278,
   "metadata": {
    "cellId": "2o931zj5p7nimstjkk0z6p",
    "colab": {
     "base_uri": "https://localhost:8080/",
     "height": 204
    },
    "id": "DFwhAXdfQLIA",
    "outputId": "ce911e31-70e4-43d9-d5f0-5eca0e4776fc"
   },
   "outputs": [
    {
     "data": {
      "text/html": [
       "<div>\n",
       "<style scoped>\n",
       "    .dataframe tbody tr th:only-of-type {\n",
       "        vertical-align: middle;\n",
       "    }\n",
       "\n",
       "    .dataframe tbody tr th {\n",
       "        vertical-align: top;\n",
       "    }\n",
       "\n",
       "    .dataframe thead th {\n",
       "        text-align: right;\n",
       "    }\n",
       "</style>\n",
       "<table border=\"1\" class=\"dataframe\">\n",
       "  <thead>\n",
       "    <tr style=\"text-align: right;\">\n",
       "      <th></th>\n",
       "      <th>path</th>\n",
       "      <th>keyword</th>\n",
       "      <th>label</th>\n",
       "    </tr>\n",
       "  </thead>\n",
       "  <tbody>\n",
       "    <tr>\n",
       "      <th>43061</th>\n",
       "      <td>speech_commands/five/a2fefcb4_nohash_1.wav</td>\n",
       "      <td>five</td>\n",
       "      <td>0</td>\n",
       "    </tr>\n",
       "    <tr>\n",
       "      <th>17022</th>\n",
       "      <td>speech_commands/tree/eefd26f3_nohash_0.wav</td>\n",
       "      <td>tree</td>\n",
       "      <td>0</td>\n",
       "    </tr>\n",
       "    <tr>\n",
       "      <th>31537</th>\n",
       "      <td>speech_commands/three/b433332a_nohash_3.wav</td>\n",
       "      <td>three</td>\n",
       "      <td>0</td>\n",
       "    </tr>\n",
       "    <tr>\n",
       "      <th>10654</th>\n",
       "      <td>speech_commands/one/b959cd0c_nohash_1.wav</td>\n",
       "      <td>one</td>\n",
       "      <td>0</td>\n",
       "    </tr>\n",
       "    <tr>\n",
       "      <th>54871</th>\n",
       "      <td>speech_commands/four/34e8c726_nohash_1.wav</td>\n",
       "      <td>four</td>\n",
       "      <td>0</td>\n",
       "    </tr>\n",
       "  </tbody>\n",
       "</table>\n",
       "</div>"
      ],
      "text/plain": [
       "                                              path keyword  label\n",
       "43061   speech_commands/five/a2fefcb4_nohash_1.wav    five      0\n",
       "17022   speech_commands/tree/eefd26f3_nohash_0.wav    tree      0\n",
       "31537  speech_commands/three/b433332a_nohash_3.wav   three      0\n",
       "10654    speech_commands/one/b959cd0c_nohash_1.wav     one      0\n",
       "54871   speech_commands/four/34e8c726_nohash_1.wav    four      0"
      ]
     },
     "execution_count": 278,
     "metadata": {},
     "output_type": "execute_result"
    }
   ],
   "source": [
    "#!g2.mig\n",
    "dataset.csv.sample(5)"
   ]
  },
  {
   "cell_type": "markdown",
   "metadata": {
    "cellId": "gd899ron8mvu5i5jj55jpe",
    "execution_id": "27931a9a-55dd-4f89-9564-f106faa53ffb",
    "id": "LUxfDJw1qUYi"
   },
   "source": [
    "### Augmentations"
   ]
  },
  {
   "cell_type": "code",
   "execution_count": 279,
   "metadata": {
    "cellId": "06gdk9ibro09p59gq7pon",
    "id": "dkmkxPWQqUYe"
   },
   "outputs": [],
   "source": [
    "#!g2.mig\n",
    "class AugsCreation:\n",
    "\n",
    "    def __init__(self):\n",
    "        self.background_noises = [\n",
    "            'speech_commands/_background_noise_/white_noise.wav',\n",
    "            'speech_commands/_background_noise_/dude_miaowing.wav',\n",
    "            'speech_commands/_background_noise_/doing_the_dishes.wav',\n",
    "            'speech_commands/_background_noise_/exercise_bike.wav',\n",
    "            'speech_commands/_background_noise_/pink_noise.wav',\n",
    "            'speech_commands/_background_noise_/running_tap.wav'\n",
    "        ]\n",
    "\n",
    "        self.noises = [\n",
    "            torchaudio.load(p)[0].squeeze()\n",
    "            for p in self.background_noises\n",
    "        ]\n",
    "\n",
    "    def add_rand_noise(self, audio):\n",
    "\n",
    "        # randomly choose noise\n",
    "        noise_num = torch.randint(low=0, high=len(\n",
    "            self.background_noises), size=(1,)).item()\n",
    "        noise = self.noises[noise_num]\n",
    "\n",
    "        noise_level = torch.Tensor([1])  # [0, 40]\n",
    "\n",
    "        noise_energy = torch.norm(noise)\n",
    "        audio_energy = torch.norm(audio)\n",
    "        alpha = (audio_energy / noise_energy) * \\\n",
    "            torch.pow(10, -noise_level / 20)\n",
    "\n",
    "        start = torch.randint(\n",
    "            low=0,\n",
    "            high=max(int(noise.size(0) - audio.size(0) - 1), 1),\n",
    "            size=(1,)\n",
    "        ).item()\n",
    "        noise_sample = noise[start: start + audio.size(0)]\n",
    "\n",
    "        audio_new = audio + alpha * noise_sample\n",
    "        audio_new.clamp_(-1, 1)\n",
    "        return audio_new\n",
    "\n",
    "    def __call__(self, wav):\n",
    "        aug_num = torch.randint(low=0, high=4, size=(1,)).item()   # choose 1 random aug from augs\n",
    "        augs = [\n",
    "            lambda x: x,\n",
    "            lambda x: (x + distributions.Normal(0, 0.01).sample(x.size())).clamp_(-1, 1),\n",
    "            lambda x: torchaudio.transforms.Vol(.25)(x),\n",
    "            lambda x: self.add_rand_noise(x)\n",
    "        ]\n",
    "\n",
    "        return augs[aug_num](wav)"
   ]
  },
  {
   "cell_type": "code",
   "execution_count": 280,
   "metadata": {
    "cellId": "yhl2wzgflocq1jy1qm2429",
    "id": "ClWThxyYh9pM"
   },
   "outputs": [
    {
     "name": "stderr",
     "output_type": "stream",
     "text": [
      "Global seed set to 228\n"
     ]
    }
   ],
   "source": [
    "#!g2.mig\n",
    "pl.seed_everything(228)\n",
    "\n",
    "indexes = torch.randperm(len(dataset))\n",
    "train_indexes = indexes[:int(len(dataset) * 0.8)]\n",
    "val_indexes = indexes[int(len(dataset) * 0.8):]\n",
    "\n",
    "train_df = dataset.csv.iloc[train_indexes].reset_index(drop=True)\n",
    "val_df = dataset.csv.iloc[val_indexes].reset_index(drop=True)"
   ]
  },
  {
   "cell_type": "code",
   "execution_count": 281,
   "metadata": {
    "cellId": "ed1wmgr2cc7ygfh7d3d8a",
    "id": "PDPLht5fqUYe"
   },
   "outputs": [],
   "source": [
    "#!g2.mig\n",
    "# Sample is a dict of utt, word and label\n",
    "train_set = SpeechCommandDataset(csv=train_df, transform=AugsCreation())\n",
    "val_set = SpeechCommandDataset(csv=val_df)"
   ]
  },
  {
   "cell_type": "markdown",
   "metadata": {
    "cellId": "pjs0i6ekievcx3iz12adr",
    "execution_id": "734e98fe-d426-46c5-b959-658b6c953736",
    "id": "2vbPDqd6qUYj"
   },
   "source": [
    "### Sampler for oversampling:"
   ]
  },
  {
   "cell_type": "code",
   "execution_count": 282,
   "metadata": {
    "cellId": "bob6f99xgyrpk00muoyeqj",
    "id": "rfnjRKo2qUYj"
   },
   "outputs": [],
   "source": [
    "#!g2.mig\n",
    "# We should provide to WeightedRandomSampler _weight for every sample_; by default it is 1/len(target)\n",
    "\n",
    "def get_sampler(target):\n",
    "    class_sample_count = np.array(\n",
    "        [len(np.where(target == t)[0]) for t in np.unique(target)])   # for every class count it's number of occ.\n",
    "    weight = 1. / class_sample_count\n",
    "    samples_weight = np.array([weight[t] for t in target])\n",
    "    samples_weight = torch.from_numpy(samples_weight)\n",
    "    samples_weigth = samples_weight.float()\n",
    "    sampler = WeightedRandomSampler(samples_weight, len(samples_weight))\n",
    "    return sampler"
   ]
  },
  {
   "cell_type": "code",
   "execution_count": 283,
   "metadata": {
    "cellId": "dugzc0uswcbrr2ppan52p",
    "id": "UM8gLmHeqUYj"
   },
   "outputs": [],
   "source": [
    "#!g2.mig\n",
    "train_sampler = get_sampler(train_set.csv['label'].values)"
   ]
  },
  {
   "cell_type": "code",
   "execution_count": 284,
   "metadata": {
    "cellId": "e6rq3lns1fy0h90hlrw4g",
    "id": "lyBqbxp0h9pO"
   },
   "outputs": [],
   "source": [
    "#!g2.mig\n",
    "class Collator:\n",
    "    \n",
    "    def __call__(self, data):\n",
    "        wavs = []\n",
    "        labels = []    \n",
    "\n",
    "        for el in data:\n",
    "            wavs.append(el['wav'])\n",
    "            labels.append(el['label'])\n",
    "\n",
    "        # torch.nn.utils.rnn.pad_sequence takes list(Tensors) and returns padded (with 0.0) Tensor\n",
    "        wavs = pad_sequence(wavs, batch_first=True)    \n",
    "        labels = torch.Tensor(labels).long()\n",
    "        return wavs, labels"
   ]
  },
  {
   "cell_type": "markdown",
   "metadata": {
    "cellId": "bfpcr49e2u78nkzklsynza",
    "execution_id": "d6bfbdc1-e378-458a-a152-05c25dfc9ef6",
    "id": "e8G9xPRVqUYk"
   },
   "source": [
    "###  Dataloaders"
   ]
  },
  {
   "cell_type": "code",
   "execution_count": 285,
   "metadata": {
    "cellId": "939i07cov4hq2u3m0qhvr",
    "id": "6wGBMcQiqUYk"
   },
   "outputs": [],
   "source": [
    "#!g2.mig\n",
    "# Here we are obliged to use shuffle=False because of our sampler with randomness inside.\n",
    "\n",
    "train_loader = DataLoader(train_set, batch_size=TaskConfig.batch_size,\n",
    "                          shuffle=False, collate_fn=Collator(),\n",
    "                          sampler=train_sampler,\n",
    "                          num_workers=4, pin_memory=True)\n",
    "\n",
    "val_loader = DataLoader(val_set, batch_size=TaskConfig.batch_size,\n",
    "                        shuffle=False, collate_fn=Collator(),\n",
    "                        num_workers=4, pin_memory=True)"
   ]
  },
  {
   "cell_type": "markdown",
   "metadata": {
    "cellId": "77bdnrror22d57siyjswq",
    "execution_id": "83efac1e-bb9a-4b95-83a8-7a012b8ca38b",
    "id": "kTlsn6cpqUYk"
   },
   "source": [
    "### Creating MelSpecs on GPU for speeeed: "
   ]
  },
  {
   "cell_type": "code",
   "execution_count": 286,
   "metadata": {
    "cellId": "on5g4ilbn6etan1mgsrfkc",
    "id": "pRXMt6it56fW"
   },
   "outputs": [],
   "source": [
    "#!g2.mig\n",
    "class LogMelspec:\n",
    "\n",
    "    def __init__(self, is_train, config):\n",
    "        # with augmentations\n",
    "        if is_train:\n",
    "            self.melspec = nn.Sequential(\n",
    "                torchaudio.transforms.MelSpectrogram(\n",
    "                    sample_rate=config.sample_rate,\n",
    "                    n_fft=400,\n",
    "                    win_length=400,\n",
    "                    hop_length=160,\n",
    "                    n_mels=config.n_mels\n",
    "                ),\n",
    "                torchaudio.transforms.FrequencyMasking(freq_mask_param=15),\n",
    "                torchaudio.transforms.TimeMasking(time_mask_param=35),\n",
    "            ).to(config.device)\n",
    "\n",
    "        # no augmentations\n",
    "        else:\n",
    "            self.melspec = torchaudio.transforms.MelSpectrogram(\n",
    "                sample_rate=config.sample_rate,\n",
    "                n_fft=400,\n",
    "                win_length=400,\n",
    "                hop_length=160,\n",
    "                n_mels=config.n_mels\n",
    "            ).to(config.device)\n",
    "\n",
    "    def __call__(self, batch):\n",
    "        # already on device\n",
    "        return torch.log(self.melspec(batch).clamp_(min=1e-9, max=1e9))"
   ]
  },
  {
   "cell_type": "code",
   "execution_count": 287,
   "metadata": {
    "cellId": "solcb7ifvv3jpfh2dqd5b",
    "id": "Pqkz4_gn8BiF"
   },
   "outputs": [],
   "source": [
    "#!g2.mig\n",
    "melspec_train = LogMelspec(is_train=True, config=TaskConfig)\n",
    "melspec_val = LogMelspec(is_train=False, config=TaskConfig)"
   ]
  },
  {
   "cell_type": "markdown",
   "metadata": {
    "cellId": "yhko9x80ljqvz8iluy97ce",
    "execution_id": "4c1a1f3f-e6e1-4907-b35f-bdc403bdfc73",
    "id": "zoAxmihY8yxr"
   },
   "source": [
    "### Quality measurment functions:"
   ]
  },
  {
   "cell_type": "code",
   "execution_count": 288,
   "metadata": {
    "cellId": "zeek7vxfvib1mrapt5ptb",
    "id": "euwD1UyuqUYk"
   },
   "outputs": [],
   "source": [
    "#!g2.mig\n",
    "# FA - true: 0, model: 1\n",
    "# FR - true: 1, model: 0\n",
    "\n",
    "def count_FA_FR(preds, labels):\n",
    "    FA = torch.sum(preds[labels == 0])\n",
    "    FR = torch.sum(labels[preds == 0])\n",
    "    \n",
    "    # torch.numel - returns total number of elements in tensor\n",
    "    return FA.item() / torch.numel(preds), FR.item() / torch.numel(preds)"
   ]
  },
  {
   "cell_type": "code",
   "execution_count": 289,
   "metadata": {
    "cellId": "s1bj1hqugybx5juivrb8t",
    "id": "YHBUrkT1qUYk"
   },
   "outputs": [],
   "source": [
    "#!g2.mig\n",
    "def get_au_fa_fr(probs, labels):\n",
    "    sorted_probs, _ = torch.sort(probs)\n",
    "    sorted_probs = torch.cat((torch.Tensor([0]), sorted_probs, torch.Tensor([1])))\n",
    "    labels = torch.cat(labels, dim=0)\n",
    "        \n",
    "    FAs, FRs = [], []\n",
    "    for prob in sorted_probs:\n",
    "        preds = (probs >= prob) * 1\n",
    "        FA, FR = count_FA_FR(preds, labels)        \n",
    "        FAs.append(FA)\n",
    "        FRs.append(FR)\n",
    "    # plt.plot(FAs, FRs)\n",
    "    # plt.show()\n",
    "\n",
    "    # ~ area under curve using trapezoidal rule\n",
    "    return -np.trapz(FRs, x=FAs)"
   ]
  },
  {
   "cell_type": "markdown",
   "metadata": {
    "cellId": "19sqz2wwk0p2dv2hx083ib",
    "execution_id": "4967d70e-be8e-47e2-b592-7f4d1a8b1a5b",
    "id": "CcEP5cEZqUYl"
   },
   "source": [
    "# Model"
   ]
  },
  {
   "cell_type": "code",
   "execution_count": 290,
   "metadata": {
    "cellId": "nrjqimln7immkkauk62vq",
    "colab": {
     "base_uri": "https://localhost:8080/"
    },
    "id": "2cP_pFIsy5p2",
    "outputId": "1af690bf-bba6-4033-84e7-b400d37c846b"
   },
   "outputs": [
    {
     "data": {
      "text/plain": [
       "CRNN(\n",
       "  (conv): Sequential(\n",
       "    (0): Conv2d(1, 8, kernel_size=(5, 20), stride=(2, 8))\n",
       "    (1): Flatten(start_dim=1, end_dim=2)\n",
       "  )\n",
       "  (gru): GRU(144, 64, num_layers=2, batch_first=True, dropout=0.1)\n",
       "  (attention): Attention(\n",
       "    (energy): Sequential(\n",
       "      (0): Linear(in_features=64, out_features=64, bias=True)\n",
       "      (1): Tanh()\n",
       "      (2): Linear(in_features=64, out_features=1, bias=True)\n",
       "    )\n",
       "  )\n",
       "  (classifier): Linear(in_features=64, out_features=2, bias=True)\n",
       ")"
      ]
     },
     "execution_count": 290,
     "metadata": {},
     "output_type": "execute_result"
    }
   ],
   "source": [
    "#!g2.mig\n",
    "class Attention(nn.Module):\n",
    "\n",
    "    def __init__(self, hidden_size: int):\n",
    "        super().__init__()\n",
    "\n",
    "        self.energy = nn.Sequential(\n",
    "            nn.Linear(hidden_size, hidden_size),\n",
    "            nn.Tanh(),\n",
    "            nn.Linear(hidden_size, 1)\n",
    "        )\n",
    "    \n",
    "    def forward(self, input):\n",
    "        energy = self.energy(input)\n",
    "        alpha = torch.softmax(energy, dim=-2)\n",
    "        return (input * alpha).sum(dim=-2)\n",
    "\n",
    "class CRNN(nn.Module):\n",
    "\n",
    "    def __init__(self, config: TaskConfig):\n",
    "        super().__init__()\n",
    "        self.config = config\n",
    "\n",
    "        self.conv = nn.Sequential(\n",
    "            nn.Conv2d(\n",
    "                in_channels=1, out_channels=config.cnn_out_channels,\n",
    "                kernel_size=config.kernel_size, stride=config.stride\n",
    "            ),\n",
    "            nn.Flatten(start_dim=1, end_dim=2),\n",
    "        )\n",
    "\n",
    "        self.conv_out_frequency = (config.n_mels - config.kernel_size[0]) // \\\n",
    "            config.stride[0] + 1\n",
    "        \n",
    "        self.gru = nn.GRU(\n",
    "            input_size=self.conv_out_frequency * config.cnn_out_channels,\n",
    "            hidden_size=config.hidden_size,\n",
    "            num_layers=config.gru_num_layers,\n",
    "            dropout=0.1,\n",
    "            bidirectional=config.bidirectional,\n",
    "            batch_first=True\n",
    "        )\n",
    "\n",
    "        self.attention = Attention(config.hidden_size)\n",
    "        self.classifier = nn.Linear(config.hidden_size, config.num_classes)\n",
    "    \n",
    "    def forward(self, input, all_layers_out=False):\n",
    "        input = input.unsqueeze(dim=1)\n",
    "        conv_output = self.conv(input).transpose(-1, -2)\n",
    "        gru_output, _ = self.gru(conv_output)\n",
    "        contex_vector = self.attention(gru_output)\n",
    "        output = self.classifier(contex_vector)\n",
    "        if all_layers_out:\n",
    "            return output, [conv_output, gru_output, contex_vector]\n",
    "        else:\n",
    "            return output\n",
    "\n",
    "config = TaskConfig()\n",
    "model = CRNN(config)\n",
    "model"
   ]
  },
  {
   "cell_type": "code",
   "execution_count": 291,
   "metadata": {
    "cellId": "pe0srhplzkcxbdmy2wqm9g",
    "id": "PpyvKwp0k3IU"
   },
   "outputs": [],
   "source": [
    "#!g2.mig\n",
    "from collections import defaultdict\n",
    "from IPython.display import clear_output\n",
    "from matplotlib import pyplot as plt\n",
    "\n",
    "history = defaultdict(list)"
   ]
  },
  {
   "cell_type": "markdown",
   "metadata": {
    "cellId": "8ln7w97s56l5f18pap12",
    "execution_id": "6c911c38-881e-48f8-904a-42718f0835d7",
    "id": "GSNW-nZCJ4Q0"
   },
   "source": [
    "# Training"
   ]
  },
  {
   "cell_type": "code",
   "execution_count": 292,
   "metadata": {
    "cellId": "ik6ojcsxilyghmu1qjp1",
    "colab": {
     "base_uri": "https://localhost:8080/"
    },
    "id": "Q8sVpHNoocgA",
    "outputId": "f72cf20f-0877-4be9-8b6a-789086928b6c"
   },
   "outputs": [
    {
     "name": "stdout",
     "output_type": "stream",
     "text": [
      "CRNN(\n",
      "  (conv): Sequential(\n",
      "    (0): Conv2d(1, 8, kernel_size=(5, 20), stride=(2, 8))\n",
      "    (1): Flatten(start_dim=1, end_dim=2)\n",
      "  )\n",
      "  (gru): GRU(144, 32, num_layers=2, batch_first=True, dropout=0.1)\n",
      "  (attention): Attention(\n",
      "    (energy): Sequential(\n",
      "      (0): Linear(in_features=32, out_features=32, bias=True)\n",
      "      (1): Tanh()\n",
      "      (2): Linear(in_features=32, out_features=1, bias=True)\n",
      "    )\n",
      "  )\n",
      "  (classifier): Linear(in_features=32, out_features=2, bias=True)\n",
      ")\n"
     ]
    }
   ],
   "source": [
    "#!g2.mig\n",
    "config = TaskConfig(hidden_size=32)\n",
    "model = CRNN(config).to(config.device)\n",
    "\n",
    "print(model)\n",
    "\n",
    "opt = torch.optim.Adam(\n",
    "    model.parameters(),\n",
    "    lr=config.learning_rate,\n",
    "    weight_decay=config.weight_decay\n",
    ")"
   ]
  },
  {
   "cell_type": "code",
   "execution_count": 293,
   "metadata": {
    "cellId": "pdf8xg7ue6l7q1xb18bbo",
    "colab": {
     "base_uri": "https://localhost:8080/"
    },
    "id": "zedXm9dmINAE",
    "outputId": "35174419-43cb-4690-fa8a-773abca4f9cf"
   },
   "outputs": [
    {
     "data": {
      "text/plain": [
       "25387"
      ]
     },
     "execution_count": 293,
     "metadata": {},
     "output_type": "execute_result"
    }
   ],
   "source": [
    "#!g2.mig\n",
    "sum([p.numel() for p in model.parameters()])"
   ]
  },
  {
   "cell_type": "code",
   "execution_count": 294,
   "metadata": {
    "cellId": "2fz6bx4tr57ugayd0uzue",
    "colab": {
     "base_uri": "https://localhost:8080/"
    },
    "id": "WBkTUHZcVugz",
    "outputId": "94e0c5a2-d1ed-4f7b-8691-069bb2aabfd9"
   },
   "outputs": [
    {
     "data": {
      "text/plain": [
       "defaultdict(list, {})"
      ]
     },
     "execution_count": 294,
     "metadata": {},
     "output_type": "execute_result"
    }
   ],
   "source": [
    "#!g2.mig\n",
    "history"
   ]
  },
  {
   "cell_type": "code",
   "execution_count": 295,
   "metadata": {
    "cellId": "9kvngazf8et4sdejlac0xv"
   },
   "outputs": [],
   "source": [
    "#!g2.mig\n",
    "\n",
    "from dataclasses import field\n",
    "\n",
    "@dataclasses.dataclass\n",
    "class DistillationConfig:\n",
    "    t: float = 10.0\n",
    "    weights: List[float] = field(default_factory=lambda: [0.2, 0.005, 0.01, 0.2])\n",
    "    proj_dim: int = 10\n",
    "    \n",
    "\n",
    "class Distiller(nn.Module):\n",
    "    def __init__(self, config, student, teacher, sample_batch):\n",
    "        super().__init__()\n",
    "        \n",
    "        self.config = config\n",
    "        self.student = student\n",
    "        self.teacher = teacher\n",
    "        \n",
    "        _, l_s = self.student(sample_batch, all_layers_out=True)\n",
    "        _, l_t = self.teacher(sample_batch, all_layers_out=True)\n",
    "        \n",
    "        self.proj_s, self.proj_t = [], []\n",
    "        for x_s, x_t in zip(l_s, l_t):\n",
    "            self.proj_s.append(nn.Linear(x_s.shape[-1], config.proj_dim))\n",
    "            self.proj_t.append(nn.Linear(x_t.shape[-1], config.proj_dim))\n",
    "            \n",
    "        self.proj_s = nn.ModuleList(self.proj_s)\n",
    "        self.proj_t = nn.ModuleList(self.proj_t)\n",
    "        \n",
    "    def forward(self, x):\n",
    "        with torch.no_grad():\n",
    "            logits_t, layers_t = self.teacher(x, all_layers_out=True)\n",
    "        logits_s, layers_s = self.student(x, all_layers_out=True)\n",
    "        \n",
    "        t = self.config.t\n",
    "        loss = self.config.weights[0] * F.mse_loss(torch.softmax(logits_s / t, dim=-1), torch.softmax(logits_t / t, dim=-1))\n",
    "        for w, x_s, x_t, proj_s, proj_t in zip(self.config.weights, layers_s, layers_t, self.proj_s, self.proj_t):\n",
    "            # print('!!!', x_s.shape, x_t.shape)\n",
    "            loss += w * F.mse_loss(proj_s(x_s.reshape(-1, x_s.shape[-1])), proj_t(x_t.reshape(-1, x_t.shape[-1])))\n",
    "            \n",
    "        return logits_s, loss"
   ]
  },
  {
   "cell_type": "code",
   "execution_count": 296,
   "metadata": {
    "cellId": "ln12fp6zp0c6uttjl0i0v2"
   },
   "outputs": [],
   "source": [
    "#!g2.mig\n",
    "from collections import defaultdict\n",
    "from IPython.display import clear_output\n",
    "from matplotlib import pyplot as plt\n",
    "\n",
    "def train_epoch_distillation(distiller, opt, loader, log_melspec, device, alpha=0.5):\n",
    "    model.train()\n",
    "    \n",
    "    stats = defaultdict(float)\n",
    "    n_batches = 0\n",
    "    for i, (batch, labels) in tqdm(enumerate(loader), total=len(loader)):\n",
    "        batch, labels = batch.to(device), labels.to(device)\n",
    "        batch = log_melspec(batch)\n",
    "\n",
    "        opt.zero_grad()\n",
    "\n",
    "        # run model # with autocast():\n",
    "        logits, distillation_loss = distiller(batch)\n",
    "        # we need probabilities so we use softmax & CE separately\n",
    "        probs = F.softmax(logits, dim=-1)\n",
    "        loss = alpha * F.cross_entropy(logits, labels)\n",
    "        stats['loss_classification']  = loss.detach().cpu().item()\n",
    "        stats['loss_distillation']  = distillation_loss.detach().cpu().item()\n",
    "        \n",
    "        loss += (1 - alpha) * distillation_loss\n",
    "        \n",
    "        stats['loss']  = loss.detach().cpu().item()\n",
    "\n",
    "        loss.backward()\n",
    "        torch.nn.utils.clip_grad_norm_(model.parameters(), 5)\n",
    "\n",
    "        opt.step()\n",
    "\n",
    "        # logging\n",
    "        argmax_probs = torch.argmax(probs, dim=-1)\n",
    "        FA, FR = count_FA_FR(argmax_probs, labels)\n",
    "        acc = torch.sum(argmax_probs == labels) / torch.numel(argmax_probs)\n",
    "        n_batches += 1\n",
    "\n",
    "    return stats"
   ]
  },
  {
   "cell_type": "code",
   "execution_count": 297,
   "metadata": {
    "cellId": "68zbuqn86yg4je297fsz16"
   },
   "outputs": [],
   "source": [
    "#!g2.mig\n",
    "@torch.no_grad()\n",
    "def validation(model, loader, log_melspec, device):\n",
    "    model.eval()\n",
    "\n",
    "    val_losses, accs, FAs, FRs = [], [], [], []\n",
    "    all_probs, all_labels = [], []\n",
    "    for i, (batch, labels) in tqdm(enumerate(loader)):\n",
    "        batch, labels = batch.to(device), labels.to(device)\n",
    "        batch = log_melspec(batch)\n",
    "\n",
    "        output = model(batch)\n",
    "        # we need probabilities so we use softmax & CE separately\n",
    "        probs = F.softmax(output, dim=-1)\n",
    "        loss = F.cross_entropy(output, labels)\n",
    "\n",
    "        # logging\n",
    "        argmax_probs = torch.argmax(probs, dim=-1)\n",
    "        all_probs.append(probs[:, 1].cpu())\n",
    "        all_labels.append(labels.cpu())\n",
    "        val_losses.append(loss.item())\n",
    "        accs.append(\n",
    "            torch.sum(argmax_probs == labels).item() /  # ???\n",
    "            torch.numel(argmax_probs)\n",
    "        )\n",
    "        FA, FR = count_FA_FR(argmax_probs, labels)\n",
    "        FAs.append(FA)\n",
    "        FRs.append(FR)\n",
    "\n",
    "    # area under FA/FR curve for whole loader\n",
    "    au_fa_fr = get_au_fa_fr(torch.cat(all_probs, dim=0).cpu(), all_labels)\n",
    "    return au_fa_fr"
   ]
  },
  {
   "cell_type": "code",
   "execution_count": 298,
   "metadata": {
    "cellId": "7oi65zbd7eeqjmwpyqvck"
   },
   "outputs": [],
   "source": [
    "#!g2.mig\n",
    "import tempfile\n",
    "from thop import profile\n",
    "import copy\n",
    "\n",
    "def get_size_in_megabytes(model):\n",
    "    # https://pytorch.org/tutorials/recipes/recipes/dynamic_quantization.html#look-at-model-size\n",
    "    with tempfile.TemporaryFile() as f:\n",
    "        torch.save(model.state_dict(), f)\n",
    "        size = f.tell() / 2**20\n",
    "    return size\n",
    "\n",
    "def get_macs(model, batch):\n",
    "    tmp = copy.deepcopy(model)\n",
    "    return profile(tmp, (batch,))[0]\n",
    "\n",
    "def get_model_score(base_model, model, batch):\n",
    "    cr = get_size_in_megabytes(base_model) / get_size_in_megabytes(model)\n",
    "    sr = get_macs(base_model, batch) / get_macs(model, batch)\n",
    "    \n",
    "    print('CR: {:.3f}, SR: {:.3f}, Score: {:.3f}/7.000'.format(cr, sr, 0.35 * (sr + cr)))"
   ]
  },
  {
   "cell_type": "markdown",
   "metadata": {
    "cellId": "o7he7afyacl7h2m37ugd",
    "execution_id": "5fd18dd6-0c7c-4331-b3b3-1fc559c9c1b6"
   },
   "source": [
    "# Попробуем разные гиперпараметры модели и обучения"
   ]
  },
  {
   "cell_type": "code",
   "execution_count": 299,
   "metadata": {
    "cellId": "241gqhzblsszxjva01dfvd"
   },
   "outputs": [
    {
     "name": "stderr",
     "output_type": "stream",
     "text": [
      "Global seed set to 228\n"
     ]
    },
    {
     "name": "stdout",
     "output_type": "stream",
     "text": [
      "[INFO] Register count_convNd() for <class 'torch.nn.modules.conv.Conv2d'>.\n",
      "[INFO] Register zero_ops() for <class 'torch.nn.modules.container.Sequential'>.\n",
      "[INFO] Register count_gru() for <class 'torch.nn.modules.rnn.GRU'>.\n",
      "[INFO] Register count_linear() for <class 'torch.nn.modules.linear.Linear'>.\n",
      "[INFO] Register count_convNd() for <class 'torch.nn.modules.conv.Conv2d'>.\n",
      "[INFO] Register zero_ops() for <class 'torch.nn.modules.container.Sequential'>.\n",
      "[INFO] Register count_gru() for <class 'torch.nn.modules.rnn.GRU'>.\n",
      "[INFO] Register count_linear() for <class 'torch.nn.modules.linear.Linear'>.\n",
      "CR: 2.640, SR: 2.449, Score: 1.781/7.000\n",
      "Distiller(\n",
      "  (student): CRNN(\n",
      "    (conv): Sequential(\n",
      "      (0): Conv2d(1, 4, kernel_size=(5, 20), stride=(2, 8))\n",
      "      (1): Flatten(start_dim=1, end_dim=2)\n",
      "    )\n",
      "    (gru): GRU(72, 20, num_layers=2, batch_first=True, dropout=0.1)\n",
      "    (attention): Attention(\n",
      "      (energy): Sequential(\n",
      "        (0): Linear(in_features=20, out_features=20, bias=True)\n",
      "        (1): Tanh()\n",
      "        (2): Linear(in_features=20, out_features=1, bias=True)\n",
      "      )\n",
      "    )\n",
      "    (classifier): Linear(in_features=20, out_features=2, bias=True)\n",
      "  )\n",
      "  (teacher): CRNN(\n",
      "    (conv): Sequential(\n",
      "      (0): Conv2d(1, 8, kernel_size=(5, 20), stride=(2, 8))\n",
      "      (1): Flatten(start_dim=1, end_dim=2)\n",
      "    )\n",
      "    (gru): GRU(144, 32, num_layers=2, batch_first=True, dropout=0.1)\n",
      "    (attention): Attention(\n",
      "      (energy): Sequential(\n",
      "        (0): Linear(in_features=32, out_features=32, bias=True)\n",
      "        (1): Tanh()\n",
      "        (2): Linear(in_features=32, out_features=1, bias=True)\n",
      "      )\n",
      "    )\n",
      "    (classifier): Linear(in_features=32, out_features=2, bias=True)\n",
      "  )\n",
      "  (proj_s): ModuleList(\n",
      "    (0): Linear(in_features=72, out_features=10, bias=True)\n",
      "    (1): Linear(in_features=20, out_features=10, bias=True)\n",
      "    (2): Linear(in_features=20, out_features=10, bias=True)\n",
      "  )\n",
      "  (proj_t): ModuleList(\n",
      "    (0): Linear(in_features=144, out_features=10, bias=True)\n",
      "    (1): Linear(in_features=32, out_features=10, bias=True)\n",
      "    (2): Linear(in_features=32, out_features=10, bias=True)\n",
      "  )\n",
      ")\n"
     ]
    },
    {
     "name": "stderr",
     "output_type": "stream",
     "text": [
      "/usr/local/lib/python3.8/dist-packages/torch/nn/modules/rnn.py:837: UserWarning: RNN module weights are not part of single contiguous chunk of memory. This means they need to be compacted at every call, possibly greatly increasing memory usage. To compact weights again call flatten_parameters(). (Triggered internally at  ../aten/src/ATen/native/cudnn/RNN.cpp:924.)\n",
      "  result = _VF.gru(input, hx, self._flat_weights, self.bias, self.num_layers,\n",
      "/usr/local/lib/python3.8/dist-packages/torch/nn/modules/rnn.py:837: UserWarning: RNN module weights are not part of single contiguous chunk of memory. This means they need to be compacted at every call, possibly greatly increasing memory usage. To compact weights again call flatten_parameters(). (Triggered internally at  ../aten/src/ATen/native/cudnn/RNN.cpp:924.)\n",
      "  result = _VF.gru(input, hx, self._flat_weights, self.bias, self.num_layers,\n"
     ]
    }
   ],
   "source": [
    "#!g2.mig\n",
    "pl.seed_everything(228)\n",
    "\n",
    "history = defaultdict(list)\n",
    "\n",
    "config = TaskConfig(\n",
    "    hidden_size=20,\n",
    "    cnn_out_channels=4)\n",
    "\n",
    "model = CRNN(config).to(config.device)\n",
    "\n",
    "base_model = CRNN(TaskConfig(hidden_size=32)).to(config.device)\n",
    "base_model.load_state_dict(torch.load('base_model.pt'))\n",
    "\n",
    "distiller_config = DistillationConfig()\n",
    "sample_batch = melspec_train(torch.rand((1, config.sample_rate)).to(config.device))\n",
    "distiller = Distiller(distiller_config, model, base_model, sample_batch).to(config.device)\n",
    "\n",
    "get_model_score(base_model, model, sample_batch)\n",
    "\n",
    "print(distiller)\n",
    "\n",
    "opt = torch.optim.Adam(\n",
    "    distiller.parameters(),\n",
    "    lr=config.learning_rate,\n",
    "    weight_decay=config.weight_decay\n",
    ")\n",
    "\n",
    "with torch.no_grad():\n",
    "    distiller(sample_batch)"
   ]
  },
  {
   "cell_type": "code",
   "execution_count": 300,
   "metadata": {
    "cellId": "rmmdxtyfc6gp5kglf6e6wl"
   },
   "outputs": [
    {
     "data": {
      "image/png": "[encoded data removed]",
      "text/plain": [
       "<Figure size 432x288 with 1 Axes>"
      ]
     },
     "metadata": {
      "needs_background": "light"
     },
     "output_type": "display_data"
    },
    {
     "data": {
      "image/png": "[encoded data removed]",
      "text/plain": [
       "<Figure size 432x288 with 1 Axes>"
      ]
     },
     "metadata": {
      "needs_background": "light"
     },
     "output_type": "display_data"
    },
    {
     "name": "stdout",
     "output_type": "stream",
     "text": [
      "Saved model with metric 2.0963994652480614e-05\n",
      "defaultdict(<class 'float'>, {'loss_classification': 0.016073239967226982, 'loss_distillation': 0.001562200952321291, 'loss': 0.017557330429553986, 'au_fa_fr': 2.0963994652480614e-05})\n",
      "END OF EPOCH 49\n",
      "Best: 2.0963994652480614e-05\n"
     ]
    }
   ],
   "source": [
    "#!g2.mig\n",
    "pl.seed_everything(228)\n",
    "\n",
    "best_metric = None\n",
    "model_name = 'base_conv_out_4_hs_20.pt'\n",
    "\n",
    "for n in range(50):\n",
    "    stats = train_epoch_distillation(distiller, opt, train_loader, melspec_train, config.device, 0.05)\n",
    "\n",
    "    au_fa_fr = validation(model, val_loader, melspec_val, config.device)\n",
    "    stats['au_fa_fr'] = au_fa_fr\n",
    "    \n",
    "    for k, v in stats.items():\n",
    "        history[k].append(v)\n",
    "\n",
    "    clear_output()\n",
    "    plt.plot(history['au_fa_fr'])\n",
    "    plt.ylabel('Metric')\n",
    "    plt.xlabel('Epoch')\n",
    "    plt.grid()\n",
    "    plt.show()\n",
    "    \n",
    "    plt.plot(history['loss_classification'], label='loss_classification')\n",
    "    plt.plot(history['loss_distillation'], label='loss_distillation')\n",
    "    plt.plot(history['loss'], label='loss')\n",
    "    plt.ylabel('Metric')\n",
    "    plt.xlabel('Epoch')\n",
    "    plt.grid()\n",
    "    plt.legend()\n",
    "    plt.show()\n",
    "    \n",
    "    if best_metric is None or au_fa_fr < best_metric:\n",
    "        best_metric = au_fa_fr\n",
    "        torch.save(model, model_name)\n",
    "        print('Saved model with metric', best_metric)\n",
    "    \n",
    "    print(stats)\n",
    "\n",
    "    print('END OF EPOCH', n)\n",
    "    \n",
    "print('Best:', best_metric)"
   ]
  },
  {
   "cell_type": "code",
   "execution_count": 301,
   "metadata": {
    "cellId": "4amtutfngeu1urn7x8oxtm"
   },
   "outputs": [
    {
     "name": "stderr",
     "output_type": "stream",
     "text": [
      "Global seed set to 228\n"
     ]
    },
    {
     "name": "stdout",
     "output_type": "stream",
     "text": [
      "[INFO] Register count_convNd() for <class 'torch.nn.modules.conv.Conv2d'>.\n",
      "[INFO] Register zero_ops() for <class 'torch.nn.modules.container.Sequential'>.\n",
      "[INFO] Register count_gru() for <class 'torch.nn.modules.rnn.GRU'>.\n",
      "[INFO] Register count_linear() for <class 'torch.nn.modules.linear.Linear'>.\n",
      "[INFO] Register count_convNd() for <class 'torch.nn.modules.conv.Conv2d'>.\n",
      "[INFO] Register zero_ops() for <class 'torch.nn.modules.container.Sequential'>.\n",
      "[INFO] Register count_gru() for <class 'torch.nn.modules.rnn.GRU'>.\n",
      "[INFO] Register count_linear() for <class 'torch.nn.modules.linear.Linear'>.\n",
      "CR: 3.481, SR: 3.909, Score: 2.586/7.000\n",
      "Distiller(\n",
      "  (student): CRNN(\n",
      "    (conv): Sequential(\n",
      "      (0): Conv2d(1, 4, kernel_size=(20, 20), stride=(10, 8))\n",
      "      (1): Flatten(start_dim=1, end_dim=2)\n",
      "    )\n",
      "    (gru): GRU(12, 20, num_layers=2, batch_first=True, dropout=0.1)\n",
      "    (attention): Attention(\n",
      "      (energy): Sequential(\n",
      "        (0): Linear(in_features=20, out_features=20, bias=True)\n",
      "        (1): Tanh()\n",
      "        (2): Linear(in_features=20, out_features=1, bias=True)\n",
      "      )\n",
      "    )\n",
      "    (classifier): Linear(in_features=20, out_features=2, bias=True)\n",
      "  )\n",
      "  (teacher): CRNN(\n",
      "    (conv): Sequential(\n",
      "      (0): Conv2d(1, 8, kernel_size=(5, 20), stride=(2, 8))\n",
      "      (1): Flatten(start_dim=1, end_dim=2)\n",
      "    )\n",
      "    (gru): GRU(144, 32, num_layers=2, batch_first=True, dropout=0.1)\n",
      "    (attention): Attention(\n",
      "      (energy): Sequential(\n",
      "        (0): Linear(in_features=32, out_features=32, bias=True)\n",
      "        (1): Tanh()\n",
      "        (2): Linear(in_features=32, out_features=1, bias=True)\n",
      "      )\n",
      "    )\n",
      "    (classifier): Linear(in_features=32, out_features=2, bias=True)\n",
      "  )\n",
      "  (proj_s): ModuleList(\n",
      "    (0): Linear(in_features=12, out_features=10, bias=True)\n",
      "    (1): Linear(in_features=20, out_features=10, bias=True)\n",
      "    (2): Linear(in_features=20, out_features=10, bias=True)\n",
      "  )\n",
      "  (proj_t): ModuleList(\n",
      "    (0): Linear(in_features=144, out_features=10, bias=True)\n",
      "    (1): Linear(in_features=32, out_features=10, bias=True)\n",
      "    (2): Linear(in_features=32, out_features=10, bias=True)\n",
      "  )\n",
      ")\n"
     ]
    },
    {
     "name": "stderr",
     "output_type": "stream",
     "text": [
      "/usr/local/lib/python3.8/dist-packages/torch/nn/modules/rnn.py:837: UserWarning: RNN module weights are not part of single contiguous chunk of memory. This means they need to be compacted at every call, possibly greatly increasing memory usage. To compact weights again call flatten_parameters(). (Triggered internally at  ../aten/src/ATen/native/cudnn/RNN.cpp:924.)\n",
      "  result = _VF.gru(input, hx, self._flat_weights, self.bias, self.num_layers,\n",
      "/usr/local/lib/python3.8/dist-packages/torch/nn/modules/rnn.py:837: UserWarning: RNN module weights are not part of single contiguous chunk of memory. This means they need to be compacted at every call, possibly greatly increasing memory usage. To compact weights again call flatten_parameters(). (Triggered internally at  ../aten/src/ATen/native/cudnn/RNN.cpp:924.)\n",
      "  result = _VF.gru(input, hx, self._flat_weights, self.bias, self.num_layers,\n"
     ]
    }
   ],
   "source": [
    "#!g2.mig\n",
    "pl.seed_everything(228)\n",
    "\n",
    "history = defaultdict(list)\n",
    "\n",
    "config = TaskConfig(\n",
    "    hidden_size=20,\n",
    "    cnn_out_channels=4,\n",
    "    kernel_size=(20, 20,),\n",
    "    stride=(10, 8,))\n",
    "\n",
    "model = CRNN(config).to(config.device)\n",
    "\n",
    "base_model = CRNN(TaskConfig(hidden_size=32)).to(config.device)\n",
    "base_model.load_state_dict(torch.load('base_model.pt'))\n",
    "\n",
    "distiller_config = DistillationConfig(weights=[0.4, 0.01, 0.02, 0.4])\n",
    "sample_batch = melspec_train(torch.rand((1, config.sample_rate)).to(config.device))\n",
    "distiller = Distiller(distiller_config, model, base_model, sample_batch).to(config.device)\n",
    "\n",
    "get_model_score(base_model, model, sample_batch)\n",
    "\n",
    "print(distiller)\n",
    "\n",
    "opt = torch.optim.Adam(\n",
    "    distiller.parameters(),\n",
    "    lr=config.learning_rate,\n",
    "    weight_decay=config.weight_decay\n",
    ")\n",
    "\n",
    "with torch.no_grad():\n",
    "    distiller(sample_batch)"
   ]
  },
  {
   "cell_type": "code",
   "execution_count": 302,
   "metadata": {
    "cellId": "6owjto8oqs6htoha74809t"
   },
   "outputs": [
    {
     "data": {
      "image/png": "[encoded data removed]",
      "text/plain": [
       "<Figure size 432x288 with 1 Axes>"
      ]
     },
     "metadata": {
      "needs_background": "light"
     },
     "output_type": "display_data"
    },
    {
     "data": {
      "image/png": "[encoded data removed]",
      "text/plain": [
       "<Figure size 432x288 with 1 Axes>"
      ]
     },
     "metadata": {
      "needs_background": "light"
     },
     "output_type": "display_data"
    },
    {
     "name": "stdout",
     "output_type": "stream",
     "text": [
      "defaultdict(<class 'float'>, {'loss_classification': 0.014963327907025814, 'loss_distillation': 0.001782675157301128, 'loss': 0.016656870022416115, 'au_fa_fr': 7.878654693975954e-05})\n",
      "END OF EPOCH 49\n",
      "Best: 7.807939255139662e-05\n"
     ]
    }
   ],
   "source": [
    "#!g2.mig\n",
    "pl.seed_everything(228)\n",
    "\n",
    "best_metric = None\n",
    "model_name = 'base_conv_out_4_hs_20_kernel_20_20_stride_10_10.pt'\n",
    "\n",
    "for n in range(50):\n",
    "    stats = train_epoch_distillation(distiller, opt, train_loader, melspec_train, config.device, 0.05)\n",
    "\n",
    "    au_fa_fr = validation(model, val_loader, melspec_val, config.device)\n",
    "    stats['au_fa_fr'] = au_fa_fr\n",
    "    \n",
    "    for k, v in stats.items():\n",
    "        history[k].append(v)\n",
    "\n",
    "    clear_output()\n",
    "    plt.plot(history['au_fa_fr'])\n",
    "    plt.ylabel('Metric')\n",
    "    plt.xlabel('Epoch')\n",
    "    plt.grid()\n",
    "    plt.show()\n",
    "    \n",
    "    plt.plot(history['loss_classification'], label='loss_classification')\n",
    "    plt.plot(history['loss_distillation'], label='loss_distillation')\n",
    "    plt.plot(history['loss'], label='loss')\n",
    "    plt.ylabel('Metric')\n",
    "    plt.xlabel('Epoch')\n",
    "    plt.grid()\n",
    "    plt.legend()\n",
    "    plt.show()\n",
    "    \n",
    "    if best_metric is None or au_fa_fr < best_metric:\n",
    "        best_metric = au_fa_fr\n",
    "        torch.save(model, model_name)\n",
    "        print('Saved model with metric', best_metric)\n",
    "    \n",
    "    print(stats)\n",
    "\n",
    "    print('END OF EPOCH', n)\n",
    "    \n",
    "print('Best:', best_metric)"
   ]
  },
  {
   "cell_type": "code",
   "execution_count": 303,
   "metadata": {
    "cellId": "9fqxjyhzhqi4z6aodwjcnx"
   },
   "outputs": [
    {
     "name": "stderr",
     "output_type": "stream",
     "text": [
      "Global seed set to 228\n"
     ]
    },
    {
     "name": "stdout",
     "output_type": "stream",
     "text": [
      "[INFO] Register count_convNd() for <class 'torch.nn.modules.conv.Conv2d'>.\n",
      "[INFO] Register zero_ops() for <class 'torch.nn.modules.container.Sequential'>.\n",
      "[INFO] Register count_gru() for <class 'torch.nn.modules.rnn.GRU'>.\n",
      "[INFO] Register count_linear() for <class 'torch.nn.modules.linear.Linear'>.\n",
      "[INFO] Register count_convNd() for <class 'torch.nn.modules.conv.Conv2d'>.\n",
      "[INFO] Register zero_ops() for <class 'torch.nn.modules.container.Sequential'>.\n",
      "[INFO] Register count_gru() for <class 'torch.nn.modules.rnn.GRU'>.\n",
      "[INFO] Register count_linear() for <class 'torch.nn.modules.linear.Linear'>.\n",
      "CR: 2.578, SR: 2.059, Score: 1.623/7.000\n",
      "Distiller(\n",
      "  (student): CRNN(\n",
      "    (conv): Sequential(\n",
      "      (0): Conv2d(1, 8, kernel_size=(10, 20), stride=(5, 8))\n",
      "      (1): Flatten(start_dim=1, end_dim=2)\n",
      "    )\n",
      "    (gru): GRU(56, 20, num_layers=2, batch_first=True, dropout=0.1)\n",
      "    (attention): Attention(\n",
      "      (energy): Sequential(\n",
      "        (0): Linear(in_features=20, out_features=20, bias=True)\n",
      "        (1): Tanh()\n",
      "        (2): Linear(in_features=20, out_features=1, bias=True)\n",
      "      )\n",
      "    )\n",
      "    (classifier): Linear(in_features=20, out_features=2, bias=True)\n",
      "  )\n",
      "  (teacher): CRNN(\n",
      "    (conv): Sequential(\n",
      "      (0): Conv2d(1, 8, kernel_size=(5, 20), stride=(2, 8))\n",
      "      (1): Flatten(start_dim=1, end_dim=2)\n",
      "    )\n",
      "    (gru): GRU(144, 32, num_layers=2, batch_first=True, dropout=0.1)\n",
      "    (attention): Attention(\n",
      "      (energy): Sequential(\n",
      "        (0): Linear(in_features=32, out_features=32, bias=True)\n",
      "        (1): Tanh()\n",
      "        (2): Linear(in_features=32, out_features=1, bias=True)\n",
      "      )\n",
      "    )\n",
      "    (classifier): Linear(in_features=32, out_features=2, bias=True)\n",
      "  )\n",
      "  (proj_s): ModuleList(\n",
      "    (0): Linear(in_features=56, out_features=10, bias=True)\n",
      "    (1): Linear(in_features=20, out_features=10, bias=True)\n",
      "    (2): Linear(in_features=20, out_features=10, bias=True)\n",
      "  )\n",
      "  (proj_t): ModuleList(\n",
      "    (0): Linear(in_features=144, out_features=10, bias=True)\n",
      "    (1): Linear(in_features=32, out_features=10, bias=True)\n",
      "    (2): Linear(in_features=32, out_features=10, bias=True)\n",
      "  )\n",
      ")\n"
     ]
    },
    {
     "name": "stderr",
     "output_type": "stream",
     "text": [
      "/usr/local/lib/python3.8/dist-packages/torch/nn/modules/rnn.py:837: UserWarning: RNN module weights are not part of single contiguous chunk of memory. This means they need to be compacted at every call, possibly greatly increasing memory usage. To compact weights again call flatten_parameters(). (Triggered internally at  ../aten/src/ATen/native/cudnn/RNN.cpp:924.)\n",
      "  result = _VF.gru(input, hx, self._flat_weights, self.bias, self.num_layers,\n",
      "/usr/local/lib/python3.8/dist-packages/torch/nn/modules/rnn.py:837: UserWarning: RNN module weights are not part of single contiguous chunk of memory. This means they need to be compacted at every call, possibly greatly increasing memory usage. To compact weights again call flatten_parameters(). (Triggered internally at  ../aten/src/ATen/native/cudnn/RNN.cpp:924.)\n",
      "  result = _VF.gru(input, hx, self._flat_weights, self.bias, self.num_layers,\n"
     ]
    }
   ],
   "source": [
    "#!g2.mig\n",
    "pl.seed_everything(228)\n",
    "\n",
    "history = defaultdict(list)\n",
    "\n",
    "config = TaskConfig(\n",
    "    hidden_size=20,\n",
    "    cnn_out_channels=8,\n",
    "    stride=(5, 8,),\n",
    "    kernel_size=(10, 20,)\n",
    ")\n",
    "\n",
    "model = CRNN(config)\n",
    "\n",
    "model.to(config.device)\n",
    "\n",
    "base_model = CRNN(TaskConfig(hidden_size=32)).to(config.device)\n",
    "base_model.load_state_dict(torch.load('base_model.pt'))\n",
    "\n",
    "distiller_config = DistillationConfig(weights=[0.2, 0.005, 0.01, 0.2])\n",
    "sample_batch = melspec_train(torch.rand((1, config.sample_rate)).to(config.device))\n",
    "distiller = Distiller(distiller_config, model, base_model, sample_batch).to(config.device)\n",
    "\n",
    "get_model_score(base_model, model, sample_batch)\n",
    "\n",
    "print(distiller)\n",
    "\n",
    "opt = torch.optim.Adam(\n",
    "    distiller.parameters(),\n",
    "    lr=config.learning_rate,\n",
    "    weight_decay=config.weight_decay\n",
    ")\n",
    "\n",
    "with torch.no_grad():\n",
    "    distiller(sample_batch)"
   ]
  },
  {
   "cell_type": "code",
   "execution_count": 304,
   "metadata": {
    "cellId": "t4pyo64646vzc9piourha"
   },
   "outputs": [
    {
     "data": {
      "image/png": "[encoded data removed]",
      "text/plain": [
       "<Figure size 432x288 with 1 Axes>"
      ]
     },
     "metadata": {
      "needs_background": "light"
     },
     "output_type": "display_data"
    },
    {
     "data": {
      "image/png": "[encoded data removed]",
      "text/plain": [
       "<Figure size 432x288 with 1 Axes>"
      ]
     },
     "metadata": {
      "needs_background": "light"
     },
     "output_type": "display_data"
    },
    {
     "name": "stdout",
     "output_type": "stream",
     "text": [
      "defaultdict(<class 'float'>, {'loss_classification': 0.016166750341653824, 'loss_distillation': 0.0021660644561052322, 'loss': 0.018224511295557022, 'au_fa_fr': 3.778651128366275e-05})\n",
      "END OF EPOCH 49\n",
      "Best: 3.3275045312334724e-05\n"
     ]
    }
   ],
   "source": [
    "#!g2.mig\n",
    "pl.seed_everything(228)\n",
    "\n",
    "best_metric = None\n",
    "model_name = 'base_conv_out_8_hs_20_kernel_10_20_stride_5_8.pt'\n",
    "\n",
    "for n in range(50):\n",
    "    stats = train_epoch_distillation(distiller, opt, train_loader, melspec_train, config.device, 0.05)\n",
    "\n",
    "    au_fa_fr = validation(model, val_loader, melspec_val, config.device)\n",
    "    stats['au_fa_fr'] = au_fa_fr\n",
    "    \n",
    "    for k, v in stats.items():\n",
    "        history[k].append(v)\n",
    "\n",
    "    clear_output()\n",
    "    plt.plot(history['au_fa_fr'])\n",
    "    plt.ylabel('Metric')\n",
    "    plt.xlabel('Epoch')\n",
    "    plt.grid()\n",
    "    plt.show()\n",
    "    \n",
    "    plt.plot(history['loss_classification'], label='loss_classification')\n",
    "    plt.plot(history['loss_distillation'], label='loss_distillation')\n",
    "    plt.plot(history['loss'], label='loss')\n",
    "    plt.ylabel('Metric')\n",
    "    plt.xlabel('Epoch')\n",
    "    plt.grid()\n",
    "    plt.legend()\n",
    "    plt.show()\n",
    "    \n",
    "    if best_metric is None or au_fa_fr < best_metric:\n",
    "        best_metric = au_fa_fr\n",
    "        torch.save(model, model_name)\n",
    "        print('Saved model with metric', best_metric)\n",
    "    \n",
    "    print(stats)\n",
    "\n",
    "    print('END OF EPOCH', n)\n",
    "    \n",
    "print('Best:', best_metric)"
   ]
  },
  {
   "cell_type": "code",
   "execution_count": 305,
   "metadata": {
    "cellId": "prqjzk3dr7eyikfm174em"
   },
   "outputs": [
    {
     "name": "stderr",
     "output_type": "stream",
     "text": [
      "Global seed set to 228\n"
     ]
    },
    {
     "name": "stdout",
     "output_type": "stream",
     "text": [
      "[INFO] Register count_convNd() for <class 'torch.nn.modules.conv.Conv2d'>.\n",
      "[INFO] Register zero_ops() for <class 'torch.nn.modules.container.Sequential'>.\n",
      "[INFO] Register count_gru() for <class 'torch.nn.modules.rnn.GRU'>.\n",
      "[INFO] Register count_linear() for <class 'torch.nn.modules.linear.Linear'>.\n",
      "[INFO] Register count_convNd() for <class 'torch.nn.modules.conv.Conv2d'>.\n",
      "[INFO] Register zero_ops() for <class 'torch.nn.modules.container.Sequential'>.\n",
      "[INFO] Register count_gru() for <class 'torch.nn.modules.rnn.GRU'>.\n",
      "[INFO] Register count_linear() for <class 'torch.nn.modules.linear.Linear'>.\n",
      "CR: 3.481, SR: 4.070, Score: 2.643/7.000\n",
      "Distiller(\n",
      "  (student): CRNN(\n",
      "    (conv): Sequential(\n",
      "      (0): Conv2d(1, 4, kernel_size=(5, 20), stride=(5, 8))\n",
      "      (1): Flatten(start_dim=1, end_dim=2)\n",
      "    )\n",
      "    (gru): GRU(32, 20, num_layers=2, batch_first=True, dropout=0.1)\n",
      "    (attention): Attention(\n",
      "      (energy): Sequential(\n",
      "        (0): Linear(in_features=20, out_features=20, bias=True)\n",
      "        (1): Tanh()\n",
      "        (2): Linear(in_features=20, out_features=1, bias=True)\n",
      "      )\n",
      "    )\n",
      "    (classifier): Linear(in_features=20, out_features=2, bias=True)\n",
      "  )\n",
      "  (teacher): CRNN(\n",
      "    (conv): Sequential(\n",
      "      (0): Conv2d(1, 8, kernel_size=(5, 20), stride=(2, 8))\n",
      "      (1): Flatten(start_dim=1, end_dim=2)\n",
      "    )\n",
      "    (gru): GRU(144, 32, num_layers=2, batch_first=True, dropout=0.1)\n",
      "    (attention): Attention(\n",
      "      (energy): Sequential(\n",
      "        (0): Linear(in_features=32, out_features=32, bias=True)\n",
      "        (1): Tanh()\n",
      "        (2): Linear(in_features=32, out_features=1, bias=True)\n",
      "      )\n",
      "    )\n",
      "    (classifier): Linear(in_features=32, out_features=2, bias=True)\n",
      "  )\n",
      "  (proj_s): ModuleList(\n",
      "    (0): Linear(in_features=32, out_features=10, bias=True)\n",
      "    (1): Linear(in_features=20, out_features=10, bias=True)\n",
      "    (2): Linear(in_features=20, out_features=10, bias=True)\n",
      "  )\n",
      "  (proj_t): ModuleList(\n",
      "    (0): Linear(in_features=144, out_features=10, bias=True)\n",
      "    (1): Linear(in_features=32, out_features=10, bias=True)\n",
      "    (2): Linear(in_features=32, out_features=10, bias=True)\n",
      "  )\n",
      ")\n"
     ]
    },
    {
     "name": "stderr",
     "output_type": "stream",
     "text": [
      "/usr/local/lib/python3.8/dist-packages/torch/nn/modules/rnn.py:837: UserWarning: RNN module weights are not part of single contiguous chunk of memory. This means they need to be compacted at every call, possibly greatly increasing memory usage. To compact weights again call flatten_parameters(). (Triggered internally at  ../aten/src/ATen/native/cudnn/RNN.cpp:924.)\n",
      "  result = _VF.gru(input, hx, self._flat_weights, self.bias, self.num_layers,\n",
      "/usr/local/lib/python3.8/dist-packages/torch/nn/modules/rnn.py:837: UserWarning: RNN module weights are not part of single contiguous chunk of memory. This means they need to be compacted at every call, possibly greatly increasing memory usage. To compact weights again call flatten_parameters(). (Triggered internally at  ../aten/src/ATen/native/cudnn/RNN.cpp:924.)\n",
      "  result = _VF.gru(input, hx, self._flat_weights, self.bias, self.num_layers,\n"
     ]
    }
   ],
   "source": [
    "#!g2.mig\n",
    "pl.seed_everything(228)\n",
    "\n",
    "history = defaultdict(list)\n",
    "\n",
    "config = TaskConfig(\n",
    "    hidden_size=20,\n",
    "    cnn_out_channels=4,\n",
    "    stride=(5, 8,),\n",
    "    kernel_size=(5, 20,)\n",
    ")\n",
    "\n",
    "model = CRNN(config)\n",
    "\n",
    "model.to(config.device)\n",
    "\n",
    "base_model = CRNN(TaskConfig(hidden_size=32)).to(config.device)\n",
    "base_model.load_state_dict(torch.load('base_model.pt'))\n",
    "\n",
    "distiller_config = DistillationConfig(weights=[0.2, 0.005, 0.01, 0.2])\n",
    "sample_batch = melspec_train(torch.rand((1, config.sample_rate)).to(config.device))\n",
    "distiller = Distiller(distiller_config, model, base_model, sample_batch).to(config.device)\n",
    "\n",
    "get_model_score(base_model, model, sample_batch)\n",
    "\n",
    "print(distiller)\n",
    "\n",
    "opt = torch.optim.Adam(\n",
    "    distiller.parameters(),\n",
    "    lr=config.learning_rate,\n",
    "    weight_decay=config.weight_decay\n",
    ")\n",
    "\n",
    "with torch.no_grad():\n",
    "    distiller(sample_batch)"
   ]
  },
  {
   "cell_type": "code",
   "execution_count": 306,
   "metadata": {
    "cellId": "0izqhv9l72m5l5f0cucc65r"
   },
   "outputs": [
    {
     "data": {
      "image/png": "[encoded data removed]",
      "text/plain": [
       "<Figure size 432x288 with 1 Axes>"
      ]
     },
     "metadata": {
      "needs_background": "light"
     },
     "output_type": "display_data"
    },
    {
     "data": {
      "image/png": "[encoded data removed]",
      "text/plain": [
       "<Figure size 432x288 with 1 Axes>"
      ]
     },
     "metadata": {
      "needs_background": "light"
     },
     "output_type": "display_data"
    },
    {
     "name": "stdout",
     "output_type": "stream",
     "text": [
      "Saved model with metric 5.0467549893546405e-05\n",
      "defaultdict(<class 'float'>, {'loss_classification': 0.016224609687924385, 'loss_distillation': 0.0015929787186905742, 'loss': 0.017737939953804016, 'au_fa_fr': 5.0467549893546405e-05})\n",
      "END OF EPOCH 49\n",
      "Best: 5.0467549893546405e-05\n"
     ]
    }
   ],
   "source": [
    "#!g2.mig\n",
    "pl.seed_everything(228)\n",
    "\n",
    "best_metric = None\n",
    "model_name = 'base_conv_out_4_hs_20_kernel_5_20_stride_5_8.pt'\n",
    "\n",
    "for n in range(50):\n",
    "    stats = train_epoch_distillation(distiller, opt, train_loader, melspec_train, config.device, 0.05)\n",
    "\n",
    "    au_fa_fr = validation(model, val_loader, melspec_val, config.device)\n",
    "    stats['au_fa_fr'] = au_fa_fr\n",
    "    \n",
    "    for k, v in stats.items():\n",
    "        history[k].append(v)\n",
    "\n",
    "    clear_output()\n",
    "    plt.plot(history['au_fa_fr'])\n",
    "    plt.ylabel('Metric')\n",
    "    plt.xlabel('Epoch')\n",
    "    plt.grid()\n",
    "    plt.show()\n",
    "    \n",
    "    plt.plot(history['loss_classification'], label='loss_classification')\n",
    "    plt.plot(history['loss_distillation'], label='loss_distillation')\n",
    "    plt.plot(history['loss'], label='loss')\n",
    "    plt.ylabel('Metric')\n",
    "    plt.xlabel('Epoch')\n",
    "    plt.grid()\n",
    "    plt.legend()\n",
    "    plt.show()\n",
    "    \n",
    "    if best_metric is None or au_fa_fr < best_metric:\n",
    "        best_metric = au_fa_fr\n",
    "        torch.save(model, model_name)\n",
    "        print('Saved model with metric', best_metric)\n",
    "    \n",
    "    print(stats)\n",
    "\n",
    "    print('END OF EPOCH', n)\n",
    "    \n",
    "print('Best:', best_metric)"
   ]
  },
  {
   "cell_type": "code",
   "execution_count": 307,
   "metadata": {
    "cellId": "g1qm64p31b9p7ixhjo2pd"
   },
   "outputs": [
    {
     "name": "stderr",
     "output_type": "stream",
     "text": [
      "Global seed set to 228\n"
     ]
    },
    {
     "name": "stdout",
     "output_type": "stream",
     "text": [
      "[INFO] Register count_convNd() for <class 'torch.nn.modules.conv.Conv2d'>.\n",
      "[INFO] Register zero_ops() for <class 'torch.nn.modules.container.Sequential'>.\n",
      "[INFO] Register count_gru() for <class 'torch.nn.modules.rnn.GRU'>.\n",
      "[INFO] Register count_linear() for <class 'torch.nn.modules.linear.Linear'>.\n",
      "[INFO] Register count_convNd() for <class 'torch.nn.modules.conv.Conv2d'>.\n",
      "[INFO] Register zero_ops() for <class 'torch.nn.modules.container.Sequential'>.\n",
      "[INFO] Register count_gru() for <class 'torch.nn.modules.rnn.GRU'>.\n",
      "[INFO] Register count_linear() for <class 'torch.nn.modules.linear.Linear'>.\n",
      "CR: 3.481, SR: 4.070, Score: 2.643/7.000\n",
      "Distiller(\n",
      "  (student): CRNN(\n",
      "    (conv): Sequential(\n",
      "      (0): Conv2d(1, 4, kernel_size=(5, 20), stride=(5, 8))\n",
      "      (1): Flatten(start_dim=1, end_dim=2)\n",
      "    )\n",
      "    (gru): GRU(32, 20, num_layers=2, batch_first=True, dropout=0.1)\n",
      "    (attention): Attention(\n",
      "      (energy): Sequential(\n",
      "        (0): Linear(in_features=20, out_features=20, bias=True)\n",
      "        (1): Tanh()\n",
      "        (2): Linear(in_features=20, out_features=1, bias=True)\n",
      "      )\n",
      "    )\n",
      "    (classifier): Linear(in_features=20, out_features=2, bias=True)\n",
      "  )\n",
      "  (teacher): CRNN(\n",
      "    (conv): Sequential(\n",
      "      (0): Conv2d(1, 8, kernel_size=(5, 20), stride=(2, 8))\n",
      "      (1): Flatten(start_dim=1, end_dim=2)\n",
      "    )\n",
      "    (gru): GRU(144, 32, num_layers=2, batch_first=True, dropout=0.1)\n",
      "    (attention): Attention(\n",
      "      (energy): Sequential(\n",
      "        (0): Linear(in_features=32, out_features=32, bias=True)\n",
      "        (1): Tanh()\n",
      "        (2): Linear(in_features=32, out_features=1, bias=True)\n",
      "      )\n",
      "    )\n",
      "    (classifier): Linear(in_features=32, out_features=2, bias=True)\n",
      "  )\n",
      "  (proj_s): ModuleList(\n",
      "    (0): Linear(in_features=32, out_features=10, bias=True)\n",
      "    (1): Linear(in_features=20, out_features=10, bias=True)\n",
      "    (2): Linear(in_features=20, out_features=10, bias=True)\n",
      "  )\n",
      "  (proj_t): ModuleList(\n",
      "    (0): Linear(in_features=144, out_features=10, bias=True)\n",
      "    (1): Linear(in_features=32, out_features=10, bias=True)\n",
      "    (2): Linear(in_features=32, out_features=10, bias=True)\n",
      "  )\n",
      ")\n"
     ]
    },
    {
     "name": "stderr",
     "output_type": "stream",
     "text": [
      "/usr/local/lib/python3.8/dist-packages/torch/nn/modules/rnn.py:837: UserWarning: RNN module weights are not part of single contiguous chunk of memory. This means they need to be compacted at every call, possibly greatly increasing memory usage. To compact weights again call flatten_parameters(). (Triggered internally at  ../aten/src/ATen/native/cudnn/RNN.cpp:924.)\n",
      "  result = _VF.gru(input, hx, self._flat_weights, self.bias, self.num_layers,\n",
      "/usr/local/lib/python3.8/dist-packages/torch/nn/modules/rnn.py:837: UserWarning: RNN module weights are not part of single contiguous chunk of memory. This means they need to be compacted at every call, possibly greatly increasing memory usage. To compact weights again call flatten_parameters(). (Triggered internally at  ../aten/src/ATen/native/cudnn/RNN.cpp:924.)\n",
      "  result = _VF.gru(input, hx, self._flat_weights, self.bias, self.num_layers,\n"
     ]
    }
   ],
   "source": [
    "#!g2.mig\n",
    "pl.seed_everything(228)\n",
    "\n",
    "history = defaultdict(list)\n",
    "\n",
    "config = TaskConfig(\n",
    "    hidden_size=20,\n",
    "    cnn_out_channels=4,\n",
    "    stride=(5, 8,),\n",
    "    kernel_size=(5, 20,),\n",
    "    learning_rate=6e-4,\n",
    ")\n",
    "\n",
    "model = CRNN(config)\n",
    "\n",
    "model.to(config.device)\n",
    "\n",
    "base_model = CRNN(TaskConfig(hidden_size=32)).to(config.device)\n",
    "base_model.load_state_dict(torch.load('base_model.pt'))\n",
    "\n",
    "distiller_config = DistillationConfig(weights=[0.2, 0.005, 0.01, 0.2])\n",
    "sample_batch = melspec_train(torch.rand((1, config.sample_rate)).to(config.device))\n",
    "distiller = Distiller(distiller_config, model, base_model, sample_batch).to(config.device)\n",
    "\n",
    "get_model_score(base_model, model, sample_batch)\n",
    "\n",
    "print(distiller)\n",
    "\n",
    "opt = torch.optim.Adam(\n",
    "    distiller.parameters(),\n",
    "    lr=config.learning_rate,\n",
    "    weight_decay=config.weight_decay\n",
    ")\n",
    "\n",
    "with torch.no_grad():\n",
    "    distiller(sample_batch)"
   ]
  },
  {
   "cell_type": "code",
   "execution_count": 308,
   "metadata": {
    "cellId": "fzkyao7ak6fqvi2n0vkaq"
   },
   "outputs": [
    {
     "data": {
      "image/png": "[encoded data removed]",
      "text/plain": [
       "<Figure size 432x288 with 1 Axes>"
      ]
     },
     "metadata": {
      "needs_background": "light"
     },
     "output_type": "display_data"
    },
    {
     "data": {
      "image/png": "[encoded data removed]",
      "text/plain": [
       "<Figure size 432x288 with 1 Axes>"
      ]
     },
     "metadata": {
      "needs_background": "light"
     },
     "output_type": "display_data"
    },
    {
     "name": "stdout",
     "output_type": "stream",
     "text": [
      "defaultdict(<class 'float'>, {'loss_classification': 0.01558029092848301, 'loss_distillation': 0.0017093241913244128, 'loss': 0.017204148694872856, 'au_fa_fr': 4.238152292112648e-05})\n",
      "END OF EPOCH 49\n",
      "Best: 3.590673379560941e-05\n"
     ]
    }
   ],
   "source": [
    "#!g2.mig\n",
    "#!g2.mig\n",
    "pl.seed_everything(228)\n",
    "\n",
    "best_metric = None\n",
    "model_name = 'base_conv_out_4_hs_20_kernel_5_20_stride_5_8.pt'\n",
    "\n",
    "for n in range(50):\n",
    "    stats = train_epoch_distillation(distiller, opt, train_loader, melspec_train, config.device, 0.05)\n",
    "\n",
    "    au_fa_fr = validation(model, val_loader, melspec_val, config.device)\n",
    "    stats['au_fa_fr'] = au_fa_fr\n",
    "    \n",
    "    for k, v in stats.items():\n",
    "        history[k].append(v)\n",
    "\n",
    "    clear_output()\n",
    "    plt.plot(history['au_fa_fr'])\n",
    "    plt.ylabel('Metric')\n",
    "    plt.xlabel('Epoch')\n",
    "    plt.grid()\n",
    "    plt.show()\n",
    "    \n",
    "    plt.plot(history['loss_classification'], label='loss_classification')\n",
    "    plt.plot(history['loss_distillation'], label='loss_distillation')\n",
    "    plt.plot(history['loss'], label='loss')\n",
    "    plt.ylabel('Metric')\n",
    "    plt.xlabel('Epoch')\n",
    "    plt.grid()\n",
    "    plt.legend()\n",
    "    plt.show()\n",
    "    \n",
    "    if best_metric is None or au_fa_fr < best_metric:\n",
    "        best_metric = au_fa_fr\n",
    "        torch.save(model, model_name)\n",
    "        print('Saved model with metric', best_metric)\n",
    "    \n",
    "    print(stats)\n",
    "\n",
    "    print('END OF EPOCH', n)\n",
    "    \n",
    "print('Best:', best_metric)"
   ]
  },
  {
   "cell_type": "markdown",
   "metadata": {
    "cellId": "hwdqysuufk63yuc06vgzf4",
    "execution_id": "26ca0880-1f91-48d4-b47c-d4ba7fee03d7"
   },
   "source": [
    "# Попробуем заменить GRU на RNN и подобрать гиперпараметры"
   ]
  },
  {
   "cell_type": "code",
   "execution_count": 309,
   "metadata": {
    "cellId": "rn1y5sssv5u535pnad6c"
   },
   "outputs": [
    {
     "name": "stderr",
     "output_type": "stream",
     "text": [
      "Global seed set to 228\n"
     ]
    },
    {
     "name": "stdout",
     "output_type": "stream",
     "text": [
      "[INFO] Register count_convNd() for <class 'torch.nn.modules.conv.Conv2d'>.\n",
      "[INFO] Register zero_ops() for <class 'torch.nn.modules.container.Sequential'>.\n",
      "[INFO] Register count_gru() for <class 'torch.nn.modules.rnn.GRU'>.\n",
      "[INFO] Register count_linear() for <class 'torch.nn.modules.linear.Linear'>.\n",
      "[INFO] Register count_convNd() for <class 'torch.nn.modules.conv.Conv2d'>.\n",
      "[INFO] Register zero_ops() for <class 'torch.nn.modules.container.Sequential'>.\n",
      "[INFO] Register count_rnn() for <class 'torch.nn.modules.rnn.RNN'>.\n",
      "[INFO] Register count_linear() for <class 'torch.nn.modules.linear.Linear'>.\n",
      "CR: 7.095, SR: 7.044, Score: 4.949/7.000\n",
      "Distiller(\n",
      "  (student): CRNN(\n",
      "    (conv): Sequential(\n",
      "      (0): Conv2d(1, 4, kernel_size=(5, 20), stride=(5, 8))\n",
      "      (1): Flatten(start_dim=1, end_dim=2)\n",
      "    )\n",
      "    (gru): RNN(32, 20, num_layers=2, batch_first=True, dropout=0.1)\n",
      "    (attention): Attention(\n",
      "      (energy): Sequential(\n",
      "        (0): Linear(in_features=20, out_features=20, bias=True)\n",
      "        (1): Tanh()\n",
      "        (2): Linear(in_features=20, out_features=1, bias=True)\n",
      "      )\n",
      "    )\n",
      "    (classifier): Linear(in_features=20, out_features=2, bias=True)\n",
      "  )\n",
      "  (teacher): CRNN(\n",
      "    (conv): Sequential(\n",
      "      (0): Conv2d(1, 8, kernel_size=(5, 20), stride=(2, 8))\n",
      "      (1): Flatten(start_dim=1, end_dim=2)\n",
      "    )\n",
      "    (gru): GRU(144, 32, num_layers=2, batch_first=True, dropout=0.1)\n",
      "    (attention): Attention(\n",
      "      (energy): Sequential(\n",
      "        (0): Linear(in_features=32, out_features=32, bias=True)\n",
      "        (1): Tanh()\n",
      "        (2): Linear(in_features=32, out_features=1, bias=True)\n",
      "      )\n",
      "    )\n",
      "    (classifier): Linear(in_features=32, out_features=2, bias=True)\n",
      "  )\n",
      "  (proj_s): ModuleList(\n",
      "    (0): Linear(in_features=32, out_features=10, bias=True)\n",
      "    (1): Linear(in_features=20, out_features=10, bias=True)\n",
      "    (2): Linear(in_features=20, out_features=10, bias=True)\n",
      "  )\n",
      "  (proj_t): ModuleList(\n",
      "    (0): Linear(in_features=144, out_features=10, bias=True)\n",
      "    (1): Linear(in_features=32, out_features=10, bias=True)\n",
      "    (2): Linear(in_features=32, out_features=10, bias=True)\n",
      "  )\n",
      ")\n"
     ]
    },
    {
     "name": "stderr",
     "output_type": "stream",
     "text": [
      "/usr/local/lib/python3.8/dist-packages/torch/nn/modules/rnn.py:837: UserWarning: RNN module weights are not part of single contiguous chunk of memory. This means they need to be compacted at every call, possibly greatly increasing memory usage. To compact weights again call flatten_parameters(). (Triggered internally at  ../aten/src/ATen/native/cudnn/RNN.cpp:924.)\n",
      "  result = _VF.gru(input, hx, self._flat_weights, self.bias, self.num_layers,\n",
      "/usr/local/lib/python3.8/dist-packages/torch/nn/modules/rnn.py:268: UserWarning: RNN module weights are not part of single contiguous chunk of memory. This means they need to be compacted at every call, possibly greatly increasing memory usage. To compact weights again call flatten_parameters(). (Triggered internally at  ../aten/src/ATen/native/cudnn/RNN.cpp:924.)\n",
      "  result = _impl(input, hx, self._flat_weights, self.bias, self.num_layers,\n"
     ]
    }
   ],
   "source": [
    "#!g2.mig\n",
    "pl.seed_everything(228)\n",
    "\n",
    "history = defaultdict(list)\n",
    "\n",
    "config = TaskConfig(\n",
    "    hidden_size=20,\n",
    "    cnn_out_channels=4,\n",
    "    stride=(5, 8,),\n",
    "    kernel_size=(5, 20,),\n",
    "    learning_rate=6e-4,\n",
    ")\n",
    "\n",
    "model = CRNN(config).to(config.device)\n",
    "\n",
    "model.gru = nn.RNN(\n",
    "    input_size=model.conv_out_frequency * config.cnn_out_channels,\n",
    "    hidden_size=config.hidden_size,\n",
    "    num_layers=config.gru_num_layers,\n",
    "    dropout=0.1,\n",
    "    bidirectional=config.bidirectional,\n",
    "    batch_first=True\n",
    ").to(config.device)\n",
    "\n",
    "base_model = CRNN(TaskConfig(hidden_size=32)).to(config.device)\n",
    "base_model.load_state_dict(torch.load('base_model.pt'))\n",
    "\n",
    "distiller_config = DistillationConfig()\n",
    "sample_batch = melspec_train(torch.rand((1, config.sample_rate)).to(config.device))\n",
    "distiller = Distiller(distiller_config, model, base_model, sample_batch).to(config.device)\n",
    "\n",
    "get_model_score(base_model, model, sample_batch)\n",
    "\n",
    "print(distiller)\n",
    "\n",
    "opt = torch.optim.Adam(\n",
    "    distiller.parameters(),\n",
    "    lr=config.learning_rate,\n",
    "    weight_decay=config.weight_decay\n",
    ")\n",
    "\n",
    "with torch.no_grad():\n",
    "    distiller(sample_batch)"
   ]
  },
  {
   "cell_type": "code",
   "execution_count": 310,
   "metadata": {
    "cellId": "owc12ytcfydbdackuccjvg"
   },
   "outputs": [
    {
     "data": {
      "image/png": "[encoded data removed]",
      "text/plain": [
       "<Figure size 432x288 with 1 Axes>"
      ]
     },
     "metadata": {
      "needs_background": "light"
     },
     "output_type": "display_data"
    },
    {
     "data": {
      "image/png": "[encoded data removed]",
      "text/plain": [
       "<Figure size 432x288 with 1 Axes>"
      ]
     },
     "metadata": {
      "needs_background": "light"
     },
     "output_type": "display_data"
    },
    {
     "name": "stdout",
     "output_type": "stream",
     "text": [
      "defaultdict(<class 'float'>, {'loss_classification': 0.028004541993141174, 'loss_distillation': 0.006343128625303507, 'loss': 0.03403051570057869, 'au_fa_fr': 8.672636899644201e-05})\n",
      "END OF EPOCH 49\n",
      "Best: 8.627283538027676e-05\n"
     ]
    }
   ],
   "source": [
    "#!g2.mig\n",
    "pl.seed_everything(228)\n",
    "\n",
    "best_metric = None\n",
    "model_name = 'base_rnn.pt'\n",
    "\n",
    "for n in range(50):\n",
    "    stats = train_epoch_distillation(distiller, opt, train_loader, melspec_train, config.device, 0.05)\n",
    "\n",
    "    au_fa_fr = validation(model, val_loader, melspec_val, config.device)\n",
    "    stats['au_fa_fr'] = au_fa_fr\n",
    "    \n",
    "    for k, v in stats.items():\n",
    "        history[k].append(v)\n",
    "\n",
    "    clear_output()\n",
    "    plt.plot(history['au_fa_fr'])\n",
    "    plt.ylabel('Metric')\n",
    "    plt.xlabel('Epoch')\n",
    "    plt.grid()\n",
    "    plt.show()\n",
    "    \n",
    "    plt.plot(history['loss_classification'], label='loss_classification')\n",
    "    plt.plot(history['loss_distillation'], label='loss_distillation')\n",
    "    plt.plot(history['loss'], label='loss')\n",
    "    plt.ylabel('Metric')\n",
    "    plt.xlabel('Epoch')\n",
    "    plt.grid()\n",
    "    plt.legend()\n",
    "    plt.show()\n",
    "    \n",
    "    if best_metric is None or au_fa_fr < best_metric:\n",
    "        best_metric = au_fa_fr\n",
    "        torch.save(model, model_name)\n",
    "        print('Saved model with metric', best_metric)\n",
    "    \n",
    "    print(stats)\n",
    "\n",
    "    print('END OF EPOCH', n)\n",
    "    \n",
    "print('Best:', best_metric)"
   ]
  },
  {
   "cell_type": "code",
   "execution_count": 311,
   "metadata": {
    "cellId": "oz9s48rt1vv8spdahwn8i"
   },
   "outputs": [
    {
     "name": "stderr",
     "output_type": "stream",
     "text": [
      "Global seed set to 228\n"
     ]
    },
    {
     "name": "stdout",
     "output_type": "stream",
     "text": [
      "[INFO] Register count_convNd() for <class 'torch.nn.modules.conv.Conv2d'>.\n",
      "[INFO] Register zero_ops() for <class 'torch.nn.modules.container.Sequential'>.\n",
      "[INFO] Register count_gru() for <class 'torch.nn.modules.rnn.GRU'>.\n",
      "[INFO] Register count_linear() for <class 'torch.nn.modules.linear.Linear'>.\n",
      "[INFO] Register count_convNd() for <class 'torch.nn.modules.conv.Conv2d'>.\n",
      "[INFO] Register zero_ops() for <class 'torch.nn.modules.container.Sequential'>.\n",
      "[INFO] Register count_rnn() for <class 'torch.nn.modules.rnn.RNN'>.\n",
      "[INFO] Register count_linear() for <class 'torch.nn.modules.linear.Linear'>.\n",
      "CR: 5.772, SR: 6.104, Score: 4.156/7.000\n",
      "Distiller(\n",
      "  (student): CRNN(\n",
      "    (conv): Sequential(\n",
      "      (0): Conv2d(1, 4, kernel_size=(5, 20), stride=(5, 8))\n",
      "      (1): Flatten(start_dim=1, end_dim=2)\n",
      "    )\n",
      "    (gru): RNN(32, 24, num_layers=2, batch_first=True, dropout=0.1)\n",
      "    (attention): Attention(\n",
      "      (energy): Sequential(\n",
      "        (0): Linear(in_features=24, out_features=24, bias=True)\n",
      "        (1): Tanh()\n",
      "        (2): Linear(in_features=24, out_features=1, bias=True)\n",
      "      )\n",
      "    )\n",
      "    (classifier): Linear(in_features=24, out_features=2, bias=True)\n",
      "  )\n",
      "  (teacher): CRNN(\n",
      "    (conv): Sequential(\n",
      "      (0): Conv2d(1, 8, kernel_size=(5, 20), stride=(2, 8))\n",
      "      (1): Flatten(start_dim=1, end_dim=2)\n",
      "    )\n",
      "    (gru): GRU(144, 32, num_layers=2, batch_first=True, dropout=0.1)\n",
      "    (attention): Attention(\n",
      "      (energy): Sequential(\n",
      "        (0): Linear(in_features=32, out_features=32, bias=True)\n",
      "        (1): Tanh()\n",
      "        (2): Linear(in_features=32, out_features=1, bias=True)\n",
      "      )\n",
      "    )\n",
      "    (classifier): Linear(in_features=32, out_features=2, bias=True)\n",
      "  )\n",
      "  (proj_s): ModuleList(\n",
      "    (0): Linear(in_features=32, out_features=10, bias=True)\n",
      "    (1): Linear(in_features=24, out_features=10, bias=True)\n",
      "    (2): Linear(in_features=24, out_features=10, bias=True)\n",
      "  )\n",
      "  (proj_t): ModuleList(\n",
      "    (0): Linear(in_features=144, out_features=10, bias=True)\n",
      "    (1): Linear(in_features=32, out_features=10, bias=True)\n",
      "    (2): Linear(in_features=32, out_features=10, bias=True)\n",
      "  )\n",
      ")\n"
     ]
    },
    {
     "name": "stderr",
     "output_type": "stream",
     "text": [
      "/usr/local/lib/python3.8/dist-packages/torch/nn/modules/rnn.py:837: UserWarning: RNN module weights are not part of single contiguous chunk of memory. This means they need to be compacted at every call, possibly greatly increasing memory usage. To compact weights again call flatten_parameters(). (Triggered internally at  ../aten/src/ATen/native/cudnn/RNN.cpp:924.)\n",
      "  result = _VF.gru(input, hx, self._flat_weights, self.bias, self.num_layers,\n",
      "/usr/local/lib/python3.8/dist-packages/torch/nn/modules/rnn.py:268: UserWarning: RNN module weights are not part of single contiguous chunk of memory. This means they need to be compacted at every call, possibly greatly increasing memory usage. To compact weights again call flatten_parameters(). (Triggered internally at  ../aten/src/ATen/native/cudnn/RNN.cpp:924.)\n",
      "  result = _impl(input, hx, self._flat_weights, self.bias, self.num_layers,\n"
     ]
    }
   ],
   "source": [
    "#!g2.mig\n",
    "pl.seed_everything(228)\n",
    "\n",
    "history = defaultdict(list)\n",
    "\n",
    "config = TaskConfig(\n",
    "    hidden_size=24,\n",
    "    cnn_out_channels=4,\n",
    "    stride=(5, 8,),\n",
    "    kernel_size=(5, 20,),\n",
    "    learning_rate=6e-4,\n",
    ")\n",
    "\n",
    "model = CRNN(config).to(config.device)\n",
    "\n",
    "model.gru = nn.RNN(\n",
    "    input_size=model.conv_out_frequency * config.cnn_out_channels,\n",
    "    hidden_size=config.hidden_size,\n",
    "    num_layers=config.gru_num_layers,\n",
    "    dropout=0.1,\n",
    "    bidirectional=config.bidirectional,\n",
    "    batch_first=True\n",
    ").to(config.device)\n",
    "\n",
    "base_model = CRNN(TaskConfig(hidden_size=32)).to(config.device)\n",
    "base_model.load_state_dict(torch.load('base_model.pt'))\n",
    "\n",
    "distiller_config = DistillationConfig(weights=[0.2, 0.005, 0.01, 0.2])\n",
    "sample_batch = melspec_train(torch.rand((1, config.sample_rate)).to(config.device))\n",
    "distiller = Distiller(distiller_config, model, base_model, sample_batch).to(config.device)\n",
    "\n",
    "get_model_score(base_model, model, sample_batch)\n",
    "\n",
    "print(distiller)\n",
    "\n",
    "opt = torch.optim.Adam(\n",
    "    distiller.parameters(),\n",
    "    lr=config.learning_rate,\n",
    "    weight_decay=config.weight_decay\n",
    ")\n",
    "\n",
    "with torch.no_grad():\n",
    "    distiller(sample_batch)"
   ]
  },
  {
   "cell_type": "code",
   "execution_count": 312,
   "metadata": {
    "cellId": "23hjeiuusy8d00jwx0emle"
   },
   "outputs": [
    {
     "data": {
      "image/png": "[encoded data removed]",
      "text/plain": [
       "<Figure size 432x288 with 1 Axes>"
      ]
     },
     "metadata": {
      "needs_background": "light"
     },
     "output_type": "display_data"
    },
    {
     "data": {
      "image/png": "[encoded data removed]",
      "text/plain": [
       "<Figure size 432x288 with 1 Axes>"
      ]
     },
     "metadata": {
      "needs_background": "light"
     },
     "output_type": "display_data"
    },
    {
     "name": "stdout",
     "output_type": "stream",
     "text": [
      "defaultdict(<class 'float'>, {'loss_classification': 0.023948485031723976, 'loss_distillation': 0.0026288868393749, 'loss': 0.02644592709839344, 'au_fa_fr': 9.076043116128028e-05})\n",
      "END OF EPOCH 49\n",
      "Best: 7.500610554711894e-05\n"
     ]
    }
   ],
   "source": [
    "#!g2.mig\n",
    "pl.seed_everything(228)\n",
    "\n",
    "best_metric = None\n",
    "model_name = 'base_rnn.pt'\n",
    "\n",
    "for n in range(50):\n",
    "    stats = train_epoch_distillation(distiller, opt, train_loader, melspec_train, config.device, 0.05)\n",
    "\n",
    "    au_fa_fr = validation(model, val_loader, melspec_val, config.device)\n",
    "    stats['au_fa_fr'] = au_fa_fr\n",
    "    \n",
    "    for k, v in stats.items():\n",
    "        history[k].append(v)\n",
    "\n",
    "    clear_output()\n",
    "    plt.plot(history['au_fa_fr'])\n",
    "    plt.ylabel('Metric')\n",
    "    plt.xlabel('Epoch')\n",
    "    plt.grid()\n",
    "    plt.show()\n",
    "    \n",
    "    plt.plot(history['loss_classification'], label='loss_classification')\n",
    "    plt.plot(history['loss_distillation'], label='loss_distillation')\n",
    "    plt.plot(history['loss'], label='loss')\n",
    "    plt.ylabel('Metric')\n",
    "    plt.xlabel('Epoch')\n",
    "    plt.grid()\n",
    "    plt.legend()\n",
    "    plt.show()\n",
    "    \n",
    "    if best_metric is None or au_fa_fr < best_metric:\n",
    "        best_metric = au_fa_fr\n",
    "        torch.save(model, model_name)\n",
    "        print('Saved model with metric', best_metric)\n",
    "    \n",
    "    print(stats)\n",
    "\n",
    "    print('END OF EPOCH', n)\n",
    "    \n",
    "print('Best:', best_metric)"
   ]
  },
  {
   "cell_type": "code",
   "execution_count": 313,
   "metadata": {
    "cellId": "nb676hy9q3h5qtqqv3fq3j"
   },
   "outputs": [
    {
     "name": "stderr",
     "output_type": "stream",
     "text": [
      "Global seed set to 228\n"
     ]
    },
    {
     "name": "stdout",
     "output_type": "stream",
     "text": [
      "[INFO] Register count_convNd() for <class 'torch.nn.modules.conv.Conv2d'>.\n",
      "[INFO] Register zero_ops() for <class 'torch.nn.modules.container.Sequential'>.\n",
      "[INFO] Register count_gru() for <class 'torch.nn.modules.rnn.GRU'>.\n",
      "[INFO] Register count_linear() for <class 'torch.nn.modules.linear.Linear'>.\n",
      "[INFO] Register count_convNd() for <class 'torch.nn.modules.conv.Conv2d'>.\n",
      "[INFO] Register zero_ops() for <class 'torch.nn.modules.container.Sequential'>.\n",
      "[INFO] Register count_rnn() for <class 'torch.nn.modules.rnn.RNN'>.\n",
      "[INFO] Register count_linear() for <class 'torch.nn.modules.linear.Linear'>.\n",
      "CR: 5.772, SR: 6.104, Score: 4.156/7.000\n",
      "Distiller(\n",
      "  (student): CRNN(\n",
      "    (conv): Sequential(\n",
      "      (0): Conv2d(1, 4, kernel_size=(5, 20), stride=(5, 8))\n",
      "      (1): Flatten(start_dim=1, end_dim=2)\n",
      "    )\n",
      "    (gru): RNN(32, 24, num_layers=2, batch_first=True, dropout=0.1)\n",
      "    (attention): Attention(\n",
      "      (energy): Sequential(\n",
      "        (0): Linear(in_features=24, out_features=24, bias=True)\n",
      "        (1): Tanh()\n",
      "        (2): Linear(in_features=24, out_features=1, bias=True)\n",
      "      )\n",
      "    )\n",
      "    (classifier): Linear(in_features=24, out_features=2, bias=True)\n",
      "  )\n",
      "  (teacher): CRNN(\n",
      "    (conv): Sequential(\n",
      "      (0): Conv2d(1, 8, kernel_size=(5, 20), stride=(2, 8))\n",
      "      (1): Flatten(start_dim=1, end_dim=2)\n",
      "    )\n",
      "    (gru): GRU(144, 32, num_layers=2, batch_first=True, dropout=0.1)\n",
      "    (attention): Attention(\n",
      "      (energy): Sequential(\n",
      "        (0): Linear(in_features=32, out_features=32, bias=True)\n",
      "        (1): Tanh()\n",
      "        (2): Linear(in_features=32, out_features=1, bias=True)\n",
      "      )\n",
      "    )\n",
      "    (classifier): Linear(in_features=32, out_features=2, bias=True)\n",
      "  )\n",
      "  (proj_s): ModuleList(\n",
      "    (0): Linear(in_features=32, out_features=10, bias=True)\n",
      "    (1): Linear(in_features=24, out_features=10, bias=True)\n",
      "    (2): Linear(in_features=24, out_features=10, bias=True)\n",
      "  )\n",
      "  (proj_t): ModuleList(\n",
      "    (0): Linear(in_features=144, out_features=10, bias=True)\n",
      "    (1): Linear(in_features=32, out_features=10, bias=True)\n",
      "    (2): Linear(in_features=32, out_features=10, bias=True)\n",
      "  )\n",
      ")\n"
     ]
    },
    {
     "name": "stderr",
     "output_type": "stream",
     "text": [
      "/usr/local/lib/python3.8/dist-packages/torch/nn/modules/rnn.py:837: UserWarning: RNN module weights are not part of single contiguous chunk of memory. This means they need to be compacted at every call, possibly greatly increasing memory usage. To compact weights again call flatten_parameters(). (Triggered internally at  ../aten/src/ATen/native/cudnn/RNN.cpp:924.)\n",
      "  result = _VF.gru(input, hx, self._flat_weights, self.bias, self.num_layers,\n",
      "/usr/local/lib/python3.8/dist-packages/torch/nn/modules/rnn.py:268: UserWarning: RNN module weights are not part of single contiguous chunk of memory. This means they need to be compacted at every call, possibly greatly increasing memory usage. To compact weights again call flatten_parameters(). (Triggered internally at  ../aten/src/ATen/native/cudnn/RNN.cpp:924.)\n",
      "  result = _impl(input, hx, self._flat_weights, self.bias, self.num_layers,\n"
     ]
    }
   ],
   "source": [
    "#!g2.mig\n",
    "pl.seed_everything(228)\n",
    "\n",
    "history = defaultdict(list)\n",
    "\n",
    "config = TaskConfig(\n",
    "    hidden_size=24,\n",
    "    cnn_out_channels=4,\n",
    "    stride=(5, 8,),\n",
    "    kernel_size=(5, 20,),\n",
    "    learning_rate=6e-4,\n",
    "    weight_decay=0,\n",
    ")\n",
    "\n",
    "model = CRNN(config).to(config.device)\n",
    "\n",
    "model.gru = nn.RNN(\n",
    "    input_size=model.conv_out_frequency * config.cnn_out_channels,\n",
    "    hidden_size=config.hidden_size,\n",
    "    num_layers=config.gru_num_layers,\n",
    "    dropout=0.1,\n",
    "    bidirectional=config.bidirectional,\n",
    "    batch_first=True\n",
    ").to(config.device)\n",
    "\n",
    "base_model = CRNN(TaskConfig(hidden_size=32)).to(config.device)\n",
    "base_model.load_state_dict(torch.load('base_model.pt'))\n",
    "\n",
    "distiller_config = DistillationConfig(weights=np.array([0.2, 0.005, 0.01, 0.2]) * 2)\n",
    "sample_batch = melspec_train(torch.rand((1, config.sample_rate)).to(config.device))\n",
    "distiller = Distiller(distiller_config, model, base_model, sample_batch).to(config.device)\n",
    "\n",
    "get_model_score(base_model, model, sample_batch)\n",
    "\n",
    "print(distiller)\n",
    "\n",
    "opt = torch.optim.Adam(\n",
    "    distiller.parameters(),\n",
    "    lr=config.learning_rate,\n",
    "    weight_decay=config.weight_decay\n",
    ")\n",
    "\n",
    "with torch.no_grad():\n",
    "    distiller(sample_batch)"
   ]
  },
  {
   "cell_type": "code",
   "execution_count": 314,
   "metadata": {
    "cellId": "vw2nw36s7aht4k5razf8g"
   },
   "outputs": [
    {
     "data": {
      "image/png": "[encoded data removed]",
      "text/plain": [
       "<Figure size 432x288 with 1 Axes>"
      ]
     },
     "metadata": {
      "needs_background": "light"
     },
     "output_type": "display_data"
    },
    {
     "data": {
      "image/png": "[encoded data removed]",
      "text/plain": [
       "<Figure size 432x288 with 1 Axes>"
      ]
     },
     "metadata": {
      "needs_background": "light"
     },
     "output_type": "display_data"
    },
    {
     "name": "stdout",
     "output_type": "stream",
     "text": [
      "defaultdict(<class 'float'>, {'loss_classification': 0.024852918460965157, 'loss_distillation': 0.004020501859486103, 'loss': 0.028471369296312332, 'au_fa_fr': 7.861050428611645e-05})\n",
      "END OF EPOCH 69\n",
      "Best: 5.852373912806074e-05\n"
     ]
    }
   ],
   "source": [
    "#!g2.mig\n",
    "pl.seed_everything(228)\n",
    "\n",
    "best_metric = None\n",
    "model_name = 'base_rnn.pt'\n",
    "\n",
    "for n in range(70):\n",
    "    stats = train_epoch_distillation(distiller, opt, train_loader, melspec_train, config.device, 0.1)\n",
    "\n",
    "    au_fa_fr = validation(model, val_loader, melspec_val, config.device)\n",
    "    stats['au_fa_fr'] = au_fa_fr\n",
    "    \n",
    "    for k, v in stats.items():\n",
    "        history[k].append(v)\n",
    "\n",
    "    clear_output()\n",
    "    plt.plot(history['au_fa_fr'])\n",
    "    plt.ylabel('Metric')\n",
    "    plt.xlabel('Epoch')\n",
    "    plt.grid()\n",
    "    plt.show()\n",
    "    \n",
    "    plt.plot(history['loss_classification'], label='loss_classification')\n",
    "    plt.plot(history['loss_distillation'], label='loss_distillation')\n",
    "    plt.plot(history['loss'], label='loss')\n",
    "    plt.ylabel('Metric')\n",
    "    plt.xlabel('Epoch')\n",
    "    plt.grid()\n",
    "    plt.legend()\n",
    "    plt.show()\n",
    "    \n",
    "    if best_metric is None or au_fa_fr < best_metric:\n",
    "        best_metric = au_fa_fr\n",
    "        torch.save(model, model_name)\n",
    "        print('Saved model with metric', best_metric)\n",
    "    \n",
    "    print(stats)\n",
    "\n",
    "    print('END OF EPOCH', n)\n",
    "    \n",
    "print('Best:', best_metric)"
   ]
  },
  {
   "cell_type": "code",
   "execution_count": 315,
   "metadata": {
    "cellId": "zzxxlxj45miz9wy10f9p2n"
   },
   "outputs": [
    {
     "name": "stderr",
     "output_type": "stream",
     "text": [
      "Global seed set to 228\n"
     ]
    },
    {
     "name": "stdout",
     "output_type": "stream",
     "text": [
      "[INFO] Register count_convNd() for <class 'torch.nn.modules.conv.Conv2d'>.\n",
      "[INFO] Register zero_ops() for <class 'torch.nn.modules.container.Sequential'>.\n",
      "[INFO] Register count_gru() for <class 'torch.nn.modules.rnn.GRU'>.\n",
      "[INFO] Register count_linear() for <class 'torch.nn.modules.linear.Linear'>.\n",
      "[INFO] Register count_convNd() for <class 'torch.nn.modules.conv.Conv2d'>.\n",
      "[INFO] Register zero_ops() for <class 'torch.nn.modules.container.Sequential'>.\n",
      "[INFO] Register count_rnn() for <class 'torch.nn.modules.rnn.RNN'>.\n",
      "[INFO] Register count_linear() for <class 'torch.nn.modules.linear.Linear'>.\n",
      "CR: 4.592, SR: 3.778, Score: 2.929/7.000\n",
      "Distiller(\n",
      "  (student): CRNN(\n",
      "    (conv): Sequential(\n",
      "      (0): Conv2d(1, 8, kernel_size=(5, 20), stride=(5, 8))\n",
      "      (1): Flatten(start_dim=1, end_dim=2)\n",
      "    )\n",
      "    (gru): RNN(64, 24, num_layers=2, batch_first=True, dropout=0.1)\n",
      "    (attention): Attention(\n",
      "      (energy): Sequential(\n",
      "        (0): Linear(in_features=24, out_features=24, bias=True)\n",
      "        (1): Tanh()\n",
      "        (2): Linear(in_features=24, out_features=1, bias=True)\n",
      "      )\n",
      "    )\n",
      "    (classifier): Linear(in_features=24, out_features=2, bias=True)\n",
      "  )\n",
      "  (teacher): CRNN(\n",
      "    (conv): Sequential(\n",
      "      (0): Conv2d(1, 8, kernel_size=(5, 20), stride=(2, 8))\n",
      "      (1): Flatten(start_dim=1, end_dim=2)\n",
      "    )\n",
      "    (gru): GRU(144, 32, num_layers=2, batch_first=True, dropout=0.1)\n",
      "    (attention): Attention(\n",
      "      (energy): Sequential(\n",
      "        (0): Linear(in_features=32, out_features=32, bias=True)\n",
      "        (1): Tanh()\n",
      "        (2): Linear(in_features=32, out_features=1, bias=True)\n",
      "      )\n",
      "    )\n",
      "    (classifier): Linear(in_features=32, out_features=2, bias=True)\n",
      "  )\n",
      "  (proj_s): ModuleList(\n",
      "    (0): Linear(in_features=64, out_features=10, bias=True)\n",
      "    (1): Linear(in_features=24, out_features=10, bias=True)\n",
      "    (2): Linear(in_features=24, out_features=10, bias=True)\n",
      "  )\n",
      "  (proj_t): ModuleList(\n",
      "    (0): Linear(in_features=144, out_features=10, bias=True)\n",
      "    (1): Linear(in_features=32, out_features=10, bias=True)\n",
      "    (2): Linear(in_features=32, out_features=10, bias=True)\n",
      "  )\n",
      ")\n"
     ]
    },
    {
     "name": "stderr",
     "output_type": "stream",
     "text": [
      "/usr/local/lib/python3.8/dist-packages/torch/nn/modules/rnn.py:837: UserWarning: RNN module weights are not part of single contiguous chunk of memory. This means they need to be compacted at every call, possibly greatly increasing memory usage. To compact weights again call flatten_parameters(). (Triggered internally at  ../aten/src/ATen/native/cudnn/RNN.cpp:924.)\n",
      "  result = _VF.gru(input, hx, self._flat_weights, self.bias, self.num_layers,\n",
      "/usr/local/lib/python3.8/dist-packages/torch/nn/modules/rnn.py:268: UserWarning: RNN module weights are not part of single contiguous chunk of memory. This means they need to be compacted at every call, possibly greatly increasing memory usage. To compact weights again call flatten_parameters(). (Triggered internally at  ../aten/src/ATen/native/cudnn/RNN.cpp:924.)\n",
      "  result = _impl(input, hx, self._flat_weights, self.bias, self.num_layers,\n"
     ]
    }
   ],
   "source": [
    "#!g2.mig\n",
    "pl.seed_everything(228)\n",
    "\n",
    "history = defaultdict(list)\n",
    "\n",
    "config = TaskConfig(\n",
    "    hidden_size=24,\n",
    "    cnn_out_channels=8,\n",
    "    stride=(5, 8,),\n",
    "    kernel_size=(5, 20,),\n",
    "    learning_rate=6e-4,\n",
    ")\n",
    "\n",
    "model = CRNN(config).to(config.device)\n",
    "\n",
    "model.gru = nn.RNN(\n",
    "    input_size=model.conv_out_frequency * config.cnn_out_channels,\n",
    "    hidden_size=config.hidden_size,\n",
    "    num_layers=config.gru_num_layers,\n",
    "    dropout=0.1,\n",
    "    bidirectional=config.bidirectional,\n",
    "    batch_first=True\n",
    ").to(config.device)\n",
    "\n",
    "base_model = CRNN(TaskConfig(hidden_size=32)).to(config.device)\n",
    "base_model.load_state_dict(torch.load('base_model.pt'))\n",
    "\n",
    "distiller_config = DistillationConfig(weights=np.array([0.2, 0.005, 0.01, 0.2]) * 2)\n",
    "sample_batch = melspec_train(torch.rand((1, config.sample_rate)).to(config.device))\n",
    "distiller = Distiller(distiller_config, model, base_model, sample_batch).to(config.device)\n",
    "\n",
    "get_model_score(base_model, model, sample_batch)\n",
    "\n",
    "print(distiller)\n",
    "\n",
    "opt = torch.optim.Adam(\n",
    "    distiller.parameters(),\n",
    "    lr=config.learning_rate,\n",
    "    weight_decay=config.weight_decay\n",
    ")\n",
    "\n",
    "with torch.no_grad():\n",
    "    distiller(sample_batch)"
   ]
  },
  {
   "cell_type": "code",
   "execution_count": 316,
   "metadata": {
    "cellId": "a4xzog23phs97vdiewd189"
   },
   "outputs": [
    {
     "data": {
      "image/png": "[encoded data removed]",
      "text/plain": [
       "<Figure size 432x288 with 1 Axes>"
      ]
     },
     "metadata": {
      "needs_background": "light"
     },
     "output_type": "display_data"
    },
    {
     "data": {
      "image/png": "[encoded data removed]",
      "text/plain": [
       "<Figure size 432x288 with 1 Axes>"
      ]
     },
     "metadata": {
      "needs_background": "light"
     },
     "output_type": "display_data"
    },
    {
     "name": "stdout",
     "output_type": "stream",
     "text": [
      "Saved model with metric 4.821181690788241e-05\n",
      "defaultdict(<class 'float'>, {'loss_classification': 0.012169792316854, 'loss_distillation': 0.0023941779509186745, 'loss': 0.01432455237954855, 'au_fa_fr': 4.821181690788241e-05})\n",
      "END OF EPOCH 69\n",
      "Best: 4.821181690788241e-05\n"
     ]
    }
   ],
   "source": [
    "#!g2.mig\n",
    "pl.seed_everything(228)\n",
    "\n",
    "best_metric = None\n",
    "model_name = 'base_rnn_2.pt'\n",
    "\n",
    "for n in range(70):\n",
    "    stats = train_epoch_distillation(distiller, opt, train_loader, melspec_train, config.device, 0.1)\n",
    "\n",
    "    au_fa_fr = validation(model, val_loader, melspec_val, config.device)\n",
    "    stats['au_fa_fr'] = au_fa_fr\n",
    "    \n",
    "    for k, v in stats.items():\n",
    "        history[k].append(v)\n",
    "\n",
    "    clear_output()\n",
    "    plt.plot(history['au_fa_fr'])\n",
    "    plt.ylabel('Metric')\n",
    "    plt.xlabel('Epoch')\n",
    "    plt.grid()\n",
    "    plt.show()\n",
    "    \n",
    "    plt.plot(history['loss_classification'], label='loss_classification')\n",
    "    plt.plot(history['loss_distillation'], label='loss_distillation')\n",
    "    plt.plot(history['loss'], label='loss')\n",
    "    plt.ylabel('Metric')\n",
    "    plt.xlabel('Epoch')\n",
    "    plt.grid()\n",
    "    plt.legend()\n",
    "    plt.show()\n",
    "    \n",
    "    if best_metric is None or au_fa_fr < best_metric:\n",
    "        best_metric = au_fa_fr\n",
    "        torch.save(model, model_name)\n",
    "        print('Saved model with metric', best_metric)\n",
    "    \n",
    "    print(stats)\n",
    "\n",
    "    print('END OF EPOCH', n)\n",
    "    \n",
    "print('Best:', best_metric)"
   ]
  },
  {
   "cell_type": "code",
   "execution_count": 320,
   "metadata": {
    "cellId": "b61t8ogk8s7f814tvp2c1v"
   },
   "outputs": [
    {
     "name": "stderr",
     "output_type": "stream",
     "text": [
      "Global seed set to 228\n"
     ]
    },
    {
     "name": "stdout",
     "output_type": "stream",
     "text": [
      "[INFO] Register count_convNd() for <class 'torch.nn.modules.conv.Conv2d'>.\n",
      "[INFO] Register zero_ops() for <class 'torch.nn.modules.container.Sequential'>.\n",
      "[INFO] Register count_gru() for <class 'torch.nn.modules.rnn.GRU'>.\n",
      "[INFO] Register count_linear() for <class 'torch.nn.modules.linear.Linear'>.\n",
      "[INFO] Register count_convNd() for <class 'torch.nn.modules.conv.Conv2d'>.\n",
      "[INFO] Register zero_ops() for <class 'torch.nn.modules.container.Sequential'>.\n",
      "[INFO] Register count_rnn() for <class 'torch.nn.modules.rnn.RNN'>.\n",
      "[INFO] Register count_linear() for <class 'torch.nn.modules.linear.Linear'>.\n",
      "CR: 5.772, SR: 6.104, Score: 4.156/7.000\n",
      "Distiller(\n",
      "  (student): CRNN(\n",
      "    (conv): Sequential(\n",
      "      (0): Conv2d(1, 4, kernel_size=(5, 20), stride=(5, 8))\n",
      "      (1): Flatten(start_dim=1, end_dim=2)\n",
      "    )\n",
      "    (gru): RNN(32, 24, num_layers=2, batch_first=True, dropout=0.1)\n",
      "    (attention): Attention(\n",
      "      (energy): Sequential(\n",
      "        (0): Linear(in_features=24, out_features=24, bias=True)\n",
      "        (1): Tanh()\n",
      "        (2): Linear(in_features=24, out_features=1, bias=True)\n",
      "      )\n",
      "    )\n",
      "    (classifier): Linear(in_features=24, out_features=2, bias=True)\n",
      "  )\n",
      "  (teacher): CRNN(\n",
      "    (conv): Sequential(\n",
      "      (0): Conv2d(1, 8, kernel_size=(5, 20), stride=(2, 8))\n",
      "      (1): Flatten(start_dim=1, end_dim=2)\n",
      "    )\n",
      "    (gru): GRU(144, 32, num_layers=2, batch_first=True, dropout=0.1)\n",
      "    (attention): Attention(\n",
      "      (energy): Sequential(\n",
      "        (0): Linear(in_features=32, out_features=32, bias=True)\n",
      "        (1): Tanh()\n",
      "        (2): Linear(in_features=32, out_features=1, bias=True)\n",
      "      )\n",
      "    )\n",
      "    (classifier): Linear(in_features=32, out_features=2, bias=True)\n",
      "  )\n",
      "  (proj_s): ModuleList(\n",
      "    (0): Linear(in_features=32, out_features=10, bias=True)\n",
      "    (1): Linear(in_features=24, out_features=10, bias=True)\n",
      "    (2): Linear(in_features=24, out_features=10, bias=True)\n",
      "  )\n",
      "  (proj_t): ModuleList(\n",
      "    (0): Linear(in_features=144, out_features=10, bias=True)\n",
      "    (1): Linear(in_features=32, out_features=10, bias=True)\n",
      "    (2): Linear(in_features=32, out_features=10, bias=True)\n",
      "  )\n",
      ")\n"
     ]
    },
    {
     "name": "stderr",
     "output_type": "stream",
     "text": [
      "/usr/local/lib/python3.8/dist-packages/torch/nn/modules/rnn.py:837: UserWarning: RNN module weights are not part of single contiguous chunk of memory. This means they need to be compacted at every call, possibly greatly increasing memory usage. To compact weights again call flatten_parameters(). (Triggered internally at  ../aten/src/ATen/native/cudnn/RNN.cpp:924.)\n",
      "  result = _VF.gru(input, hx, self._flat_weights, self.bias, self.num_layers,\n",
      "/usr/local/lib/python3.8/dist-packages/torch/nn/modules/rnn.py:268: UserWarning: RNN module weights are not part of single contiguous chunk of memory. This means they need to be compacted at every call, possibly greatly increasing memory usage. To compact weights again call flatten_parameters(). (Triggered internally at  ../aten/src/ATen/native/cudnn/RNN.cpp:924.)\n",
      "  result = _impl(input, hx, self._flat_weights, self.bias, self.num_layers,\n"
     ]
    }
   ],
   "source": [
    "#!g2.mig\n",
    "pl.seed_everything(228)\n",
    "\n",
    "history = defaultdict(list)\n",
    "\n",
    "config = TaskConfig(\n",
    "    hidden_size=24,\n",
    "    cnn_out_channels=4,\n",
    "    stride=(5, 8,),\n",
    "    kernel_size=(5, 20,),\n",
    "    learning_rate=6e-4,\n",
    "    weight_decay=0,\n",
    ")\n",
    "\n",
    "model = CRNN(config).to(config.device)\n",
    "\n",
    "model.gru = nn.RNN(\n",
    "    input_size=model.conv_out_frequency * config.cnn_out_channels,\n",
    "    hidden_size=config.hidden_size,\n",
    "    num_layers=config.gru_num_layers,\n",
    "    dropout=0.1,\n",
    "    bidirectional=config.bidirectional,\n",
    "    batch_first=True\n",
    ").to(config.device)\n",
    "\n",
    "model.load_state_dict(torch.load('base_rnn.pt').state_dict())\n",
    "\n",
    "base_model = CRNN(TaskConfig(hidden_size=32)).to(config.device)\n",
    "base_model.load_state_dict(torch.load('base_model.pt'))\n",
    "\n",
    "distiller_config = DistillationConfig(weights=np.array([0.2, 0.005, 0.01, 0.2]) * 2)\n",
    "sample_batch = melspec_train(torch.rand((1, config.sample_rate)).to(config.device))\n",
    "distiller = Distiller(distiller_config, model, base_model, sample_batch).to(config.device)\n",
    "\n",
    "get_model_score(base_model, model, sample_batch)\n",
    "\n",
    "print(distiller)\n",
    "\n",
    "opt = torch.optim.Adam(\n",
    "    distiller.parameters(),\n",
    "    lr=config.learning_rate,\n",
    "    weight_decay=config.weight_decay\n",
    ")\n",
    "\n",
    "with torch.no_grad():\n",
    "    distiller(sample_batch)"
   ]
  },
  {
   "cell_type": "code",
   "execution_count": 321,
   "metadata": {
    "cellId": "1qmmp7iftd56vki5lpk8mw"
   },
   "outputs": [
    {
     "name": "stderr",
     "output_type": "stream",
     "text": [
      "102it [00:04, 25.17it/s]\n"
     ]
    },
    {
     "data": {
      "text/plain": [
       "5.852373912806074e-05"
      ]
     },
     "execution_count": 321,
     "metadata": {},
     "output_type": "execute_result"
    }
   ],
   "source": [
    "#!g2.mig\n",
    "validation(model, val_loader, melspec_val, config.device)"
   ]
  },
  {
   "cell_type": "code",
   "execution_count": 322,
   "metadata": {
    "cellId": "n095t3aolv5oopetfcri"
   },
   "outputs": [
    {
     "data": {
      "image/png": "[encoded data removed]",
      "text/plain": [
       "<Figure size 432x288 with 1 Axes>"
      ]
     },
     "metadata": {
      "needs_background": "light"
     },
     "output_type": "display_data"
    },
    {
     "data": {
      "image/png": "[encoded data removed]",
      "text/plain": [
       "<Figure size 432x288 with 1 Axes>"
      ]
     },
     "metadata": {
      "needs_background": "light"
     },
     "output_type": "display_data"
    },
    {
     "name": "stdout",
     "output_type": "stream",
     "text": [
      "defaultdict(<class 'float'>, {'loss_classification': 0.02632310800254345, 'loss_distillation': 0.020984331145882607, 'loss': 0.04520900547504425, 'au_fa_fr': 6.129864875328233e-05})\n",
      "END OF EPOCH 9\n"
     ]
    },
    {
     "name": "stderr",
     "output_type": "stream",
     "text": [
      " 99%|█████████▉| 400/405 [00:48<00:00,  8.24it/s]\n"
     ]
    },
    {
     "ename": "KeyboardInterrupt",
     "evalue": "",
     "output_type": "error",
     "traceback": [
      "\u001b[0;31m---------------------------------------------------------------------------\u001b[0m",
      "\u001b[0;31mKeyboardInterrupt\u001b[0m                         Traceback (most recent call last)",
      "\u001b[0;32m<ipython-input-51-2038b0a6e14f>\u001b[0m in \u001b[0;36m<module>\u001b[0;34m\u001b[0m\n\u001b[1;32m      5\u001b[0m \u001b[0;34m\u001b[0m\u001b[0m\n\u001b[1;32m      6\u001b[0m \u001b[0;32mfor\u001b[0m \u001b[0mn\u001b[0m \u001b[0;32min\u001b[0m \u001b[0mrange\u001b[0m\u001b[0;34m(\u001b[0m\u001b[0;36m150\u001b[0m\u001b[0;34m)\u001b[0m\u001b[0;34m:\u001b[0m\u001b[0;34m\u001b[0m\u001b[0;34m\u001b[0m\u001b[0m\n\u001b[0;32m----> 7\u001b[0;31m     \u001b[0mstats\u001b[0m \u001b[0;34m=\u001b[0m \u001b[0mtrain_epoch_distillation\u001b[0m\u001b[0;34m(\u001b[0m\u001b[0mdistiller\u001b[0m\u001b[0;34m,\u001b[0m \u001b[0mopt\u001b[0m\u001b[0;34m,\u001b[0m \u001b[0mtrain_loader\u001b[0m\u001b[0;34m,\u001b[0m \u001b[0mmelspec_train\u001b[0m\u001b[0;34m,\u001b[0m \u001b[0mconfig\u001b[0m\u001b[0;34m.\u001b[0m\u001b[0mdevice\u001b[0m\u001b[0;34m,\u001b[0m \u001b[0;36m0.1\u001b[0m\u001b[0;34m)\u001b[0m\u001b[0;34m\u001b[0m\u001b[0;34m\u001b[0m\u001b[0m\n\u001b[0m\u001b[1;32m      8\u001b[0m \u001b[0;34m\u001b[0m\u001b[0m\n\u001b[1;32m      9\u001b[0m     \u001b[0mau_fa_fr\u001b[0m \u001b[0;34m=\u001b[0m \u001b[0mvalidation\u001b[0m\u001b[0;34m(\u001b[0m\u001b[0mmodel\u001b[0m\u001b[0;34m,\u001b[0m \u001b[0mval_loader\u001b[0m\u001b[0;34m,\u001b[0m \u001b[0mmelspec_val\u001b[0m\u001b[0;34m,\u001b[0m \u001b[0mconfig\u001b[0m\u001b[0;34m.\u001b[0m\u001b[0mdevice\u001b[0m\u001b[0;34m)\u001b[0m\u001b[0;34m\u001b[0m\u001b[0;34m\u001b[0m\u001b[0m\n",
      "\u001b[0;32m<ipython-input-24-d601701656f9>\u001b[0m in \u001b[0;36mtrain_epoch_distillation\u001b[0;34m(distiller, opt, loader, log_melspec, device, alpha)\u001b[0m\n\u001b[1;32m      8\u001b[0m     \u001b[0mstats\u001b[0m \u001b[0;34m=\u001b[0m \u001b[0mdefaultdict\u001b[0m\u001b[0;34m(\u001b[0m\u001b[0mfloat\u001b[0m\u001b[0;34m)\u001b[0m\u001b[0;34m\u001b[0m\u001b[0;34m\u001b[0m\u001b[0m\n\u001b[1;32m      9\u001b[0m     \u001b[0mn_batches\u001b[0m \u001b[0;34m=\u001b[0m \u001b[0;36m0\u001b[0m\u001b[0;34m\u001b[0m\u001b[0;34m\u001b[0m\u001b[0m\n\u001b[0;32m---> 10\u001b[0;31m     \u001b[0;32mfor\u001b[0m \u001b[0mi\u001b[0m\u001b[0;34m,\u001b[0m \u001b[0;34m(\u001b[0m\u001b[0mbatch\u001b[0m\u001b[0;34m,\u001b[0m \u001b[0mlabels\u001b[0m\u001b[0;34m)\u001b[0m \u001b[0;32min\u001b[0m \u001b[0mtqdm\u001b[0m\u001b[0;34m(\u001b[0m\u001b[0menumerate\u001b[0m\u001b[0;34m(\u001b[0m\u001b[0mloader\u001b[0m\u001b[0;34m)\u001b[0m\u001b[0;34m,\u001b[0m \u001b[0mtotal\u001b[0m\u001b[0;34m=\u001b[0m\u001b[0mlen\u001b[0m\u001b[0;34m(\u001b[0m\u001b[0mloader\u001b[0m\u001b[0;34m)\u001b[0m\u001b[0;34m)\u001b[0m\u001b[0;34m:\u001b[0m\u001b[0;34m\u001b[0m\u001b[0;34m\u001b[0m\u001b[0m\n\u001b[0m\u001b[1;32m     11\u001b[0m         \u001b[0mbatch\u001b[0m\u001b[0;34m,\u001b[0m \u001b[0mlabels\u001b[0m \u001b[0;34m=\u001b[0m \u001b[0mbatch\u001b[0m\u001b[0;34m.\u001b[0m\u001b[0mto\u001b[0m\u001b[0;34m(\u001b[0m\u001b[0mdevice\u001b[0m\u001b[0;34m)\u001b[0m\u001b[0;34m,\u001b[0m \u001b[0mlabels\u001b[0m\u001b[0;34m.\u001b[0m\u001b[0mto\u001b[0m\u001b[0;34m(\u001b[0m\u001b[0mdevice\u001b[0m\u001b[0;34m)\u001b[0m\u001b[0;34m\u001b[0m\u001b[0;34m\u001b[0m\u001b[0m\n\u001b[1;32m     12\u001b[0m         \u001b[0mbatch\u001b[0m \u001b[0;34m=\u001b[0m \u001b[0mlog_melspec\u001b[0m\u001b[0;34m(\u001b[0m\u001b[0mbatch\u001b[0m\u001b[0;34m)\u001b[0m\u001b[0;34m\u001b[0m\u001b[0;34m\u001b[0m\u001b[0m\n",
      "\u001b[0;32m/usr/local/lib/python3.8/dist-packages/tqdm/std.py\u001b[0m in \u001b[0;36m__iter__\u001b[0;34m(self)\u001b[0m\n\u001b[1;32m   1172\u001b[0m \u001b[0;34m\u001b[0m\u001b[0m\n\u001b[1;32m   1173\u001b[0m         \u001b[0;32mtry\u001b[0m\u001b[0;34m:\u001b[0m\u001b[0;34m\u001b[0m\u001b[0;34m\u001b[0m\u001b[0m\n\u001b[0;32m-> 1174\u001b[0;31m             \u001b[0;32mfor\u001b[0m \u001b[0mobj\u001b[0m \u001b[0;32min\u001b[0m \u001b[0miterable\u001b[0m\u001b[0;34m:\u001b[0m\u001b[0;34m\u001b[0m\u001b[0;34m\u001b[0m\u001b[0m\n\u001b[0m\u001b[1;32m   1175\u001b[0m                 \u001b[0;32myield\u001b[0m \u001b[0mobj\u001b[0m\u001b[0;34m\u001b[0m\u001b[0;34m\u001b[0m\u001b[0m\n\u001b[1;32m   1176\u001b[0m                 \u001b[0;31m# Update and possibly print the progressbar.\u001b[0m\u001b[0;34m\u001b[0m\u001b[0;34m\u001b[0m\u001b[0;34m\u001b[0m\u001b[0m\n",
      "\u001b[0;32m/usr/local/lib/python3.8/dist-packages/torch/utils/data/dataloader.py\u001b[0m in \u001b[0;36m__next__\u001b[0;34m(self)\u001b[0m\n\u001b[1;32m    519\u001b[0m             \u001b[0;32mif\u001b[0m \u001b[0mself\u001b[0m\u001b[0;34m.\u001b[0m\u001b[0m_sampler_iter\u001b[0m \u001b[0;32mis\u001b[0m \u001b[0;32mNone\u001b[0m\u001b[0;34m:\u001b[0m\u001b[0;34m\u001b[0m\u001b[0;34m\u001b[0m\u001b[0m\n\u001b[1;32m    520\u001b[0m                 \u001b[0mself\u001b[0m\u001b[0;34m.\u001b[0m\u001b[0m_reset\u001b[0m\u001b[0;34m(\u001b[0m\u001b[0;34m)\u001b[0m\u001b[0;34m\u001b[0m\u001b[0;34m\u001b[0m\u001b[0m\n\u001b[0;32m--> 521\u001b[0;31m             \u001b[0mdata\u001b[0m \u001b[0;34m=\u001b[0m \u001b[0mself\u001b[0m\u001b[0;34m.\u001b[0m\u001b[0m_next_data\u001b[0m\u001b[0;34m(\u001b[0m\u001b[0;34m)\u001b[0m\u001b[0;34m\u001b[0m\u001b[0;34m\u001b[0m\u001b[0m\n\u001b[0m\u001b[1;32m    522\u001b[0m             \u001b[0mself\u001b[0m\u001b[0;34m.\u001b[0m\u001b[0m_num_yielded\u001b[0m \u001b[0;34m+=\u001b[0m \u001b[0;36m1\u001b[0m\u001b[0;34m\u001b[0m\u001b[0;34m\u001b[0m\u001b[0m\n\u001b[1;32m    523\u001b[0m             \u001b[0;32mif\u001b[0m \u001b[0mself\u001b[0m\u001b[0;34m.\u001b[0m\u001b[0m_dataset_kind\u001b[0m \u001b[0;34m==\u001b[0m \u001b[0m_DatasetKind\u001b[0m\u001b[0;34m.\u001b[0m\u001b[0mIterable\u001b[0m \u001b[0;32mand\u001b[0m\u001b[0;31m \u001b[0m\u001b[0;31m\\\u001b[0m\u001b[0;34m\u001b[0m\u001b[0;34m\u001b[0m\u001b[0m\n",
      "\u001b[0;32m/usr/local/lib/python3.8/dist-packages/torch/utils/data/dataloader.py\u001b[0m in \u001b[0;36m_next_data\u001b[0;34m(self)\u001b[0m\n\u001b[1;32m   1184\u001b[0m \u001b[0;34m\u001b[0m\u001b[0m\n\u001b[1;32m   1185\u001b[0m             \u001b[0;32massert\u001b[0m \u001b[0;32mnot\u001b[0m \u001b[0mself\u001b[0m\u001b[0;34m.\u001b[0m\u001b[0m_shutdown\u001b[0m \u001b[0;32mand\u001b[0m \u001b[0mself\u001b[0m\u001b[0;34m.\u001b[0m\u001b[0m_tasks_outstanding\u001b[0m \u001b[0;34m>\u001b[0m \u001b[0;36m0\u001b[0m\u001b[0;34m\u001b[0m\u001b[0;34m\u001b[0m\u001b[0m\n\u001b[0;32m-> 1186\u001b[0;31m             \u001b[0midx\u001b[0m\u001b[0;34m,\u001b[0m \u001b[0mdata\u001b[0m \u001b[0;34m=\u001b[0m \u001b[0mself\u001b[0m\u001b[0;34m.\u001b[0m\u001b[0m_get_data\u001b[0m\u001b[0;34m(\u001b[0m\u001b[0;34m)\u001b[0m\u001b[0;34m\u001b[0m\u001b[0;34m\u001b[0m\u001b[0m\n\u001b[0m\u001b[1;32m   1187\u001b[0m             \u001b[0mself\u001b[0m\u001b[0;34m.\u001b[0m\u001b[0m_tasks_outstanding\u001b[0m \u001b[0;34m-=\u001b[0m \u001b[0;36m1\u001b[0m\u001b[0;34m\u001b[0m\u001b[0;34m\u001b[0m\u001b[0m\n\u001b[1;32m   1188\u001b[0m             \u001b[0;32mif\u001b[0m \u001b[0mself\u001b[0m\u001b[0;34m.\u001b[0m\u001b[0m_dataset_kind\u001b[0m \u001b[0;34m==\u001b[0m \u001b[0m_DatasetKind\u001b[0m\u001b[0;34m.\u001b[0m\u001b[0mIterable\u001b[0m\u001b[0;34m:\u001b[0m\u001b[0;34m\u001b[0m\u001b[0;34m\u001b[0m\u001b[0m\n",
      "\u001b[0;32m/usr/local/lib/python3.8/dist-packages/torch/utils/data/dataloader.py\u001b[0m in \u001b[0;36m_get_data\u001b[0;34m(self)\u001b[0m\n\u001b[1;32m   1140\u001b[0m         \u001b[0;32melif\u001b[0m \u001b[0mself\u001b[0m\u001b[0;34m.\u001b[0m\u001b[0m_pin_memory\u001b[0m\u001b[0;34m:\u001b[0m\u001b[0;34m\u001b[0m\u001b[0;34m\u001b[0m\u001b[0m\n\u001b[1;32m   1141\u001b[0m             \u001b[0;32mwhile\u001b[0m \u001b[0mself\u001b[0m\u001b[0;34m.\u001b[0m\u001b[0m_pin_memory_thread\u001b[0m\u001b[0;34m.\u001b[0m\u001b[0mis_alive\u001b[0m\u001b[0;34m(\u001b[0m\u001b[0;34m)\u001b[0m\u001b[0;34m:\u001b[0m\u001b[0;34m\u001b[0m\u001b[0;34m\u001b[0m\u001b[0m\n\u001b[0;32m-> 1142\u001b[0;31m                 \u001b[0msuccess\u001b[0m\u001b[0;34m,\u001b[0m \u001b[0mdata\u001b[0m \u001b[0;34m=\u001b[0m \u001b[0mself\u001b[0m\u001b[0;34m.\u001b[0m\u001b[0m_try_get_data\u001b[0m\u001b[0;34m(\u001b[0m\u001b[0;34m)\u001b[0m\u001b[0;34m\u001b[0m\u001b[0;34m\u001b[0m\u001b[0m\n\u001b[0m\u001b[1;32m   1143\u001b[0m                 \u001b[0;32mif\u001b[0m \u001b[0msuccess\u001b[0m\u001b[0;34m:\u001b[0m\u001b[0;34m\u001b[0m\u001b[0;34m\u001b[0m\u001b[0m\n\u001b[1;32m   1144\u001b[0m                     \u001b[0;32mreturn\u001b[0m \u001b[0mdata\u001b[0m\u001b[0;34m\u001b[0m\u001b[0;34m\u001b[0m\u001b[0m\n",
      "\u001b[0;32m/usr/local/lib/python3.8/dist-packages/torch/utils/data/dataloader.py\u001b[0m in \u001b[0;36m_try_get_data\u001b[0;34m(self, timeout)\u001b[0m\n\u001b[1;32m    988\u001b[0m         \u001b[0;31m#   (bool: whether successfully get data, any: data if successful else None)\u001b[0m\u001b[0;34m\u001b[0m\u001b[0;34m\u001b[0m\u001b[0;34m\u001b[0m\u001b[0m\n\u001b[1;32m    989\u001b[0m         \u001b[0;32mtry\u001b[0m\u001b[0;34m:\u001b[0m\u001b[0;34m\u001b[0m\u001b[0;34m\u001b[0m\u001b[0m\n\u001b[0;32m--> 990\u001b[0;31m             \u001b[0mdata\u001b[0m \u001b[0;34m=\u001b[0m \u001b[0mself\u001b[0m\u001b[0;34m.\u001b[0m\u001b[0m_data_queue\u001b[0m\u001b[0;34m.\u001b[0m\u001b[0mget\u001b[0m\u001b[0;34m(\u001b[0m\u001b[0mtimeout\u001b[0m\u001b[0;34m=\u001b[0m\u001b[0mtimeout\u001b[0m\u001b[0;34m)\u001b[0m\u001b[0;34m\u001b[0m\u001b[0;34m\u001b[0m\u001b[0m\n\u001b[0m\u001b[1;32m    991\u001b[0m             \u001b[0;32mreturn\u001b[0m \u001b[0;34m(\u001b[0m\u001b[0;32mTrue\u001b[0m\u001b[0;34m,\u001b[0m \u001b[0mdata\u001b[0m\u001b[0;34m)\u001b[0m\u001b[0;34m\u001b[0m\u001b[0;34m\u001b[0m\u001b[0m\n\u001b[1;32m    992\u001b[0m         \u001b[0;32mexcept\u001b[0m \u001b[0mException\u001b[0m \u001b[0;32mas\u001b[0m \u001b[0me\u001b[0m\u001b[0;34m:\u001b[0m\u001b[0;34m\u001b[0m\u001b[0;34m\u001b[0m\u001b[0m\n",
      "\u001b[0;32m/usr/lib/python3.8/queue.py\u001b[0m in \u001b[0;36mget\u001b[0;34m(self, block, timeout)\u001b[0m\n\u001b[1;32m    177\u001b[0m                     \u001b[0;32mif\u001b[0m \u001b[0mremaining\u001b[0m \u001b[0;34m<=\u001b[0m \u001b[0;36m0.0\u001b[0m\u001b[0;34m:\u001b[0m\u001b[0;34m\u001b[0m\u001b[0;34m\u001b[0m\u001b[0m\n\u001b[1;32m    178\u001b[0m                         \u001b[0;32mraise\u001b[0m \u001b[0mEmpty\u001b[0m\u001b[0;34m\u001b[0m\u001b[0;34m\u001b[0m\u001b[0m\n\u001b[0;32m--> 179\u001b[0;31m                     \u001b[0mself\u001b[0m\u001b[0;34m.\u001b[0m\u001b[0mnot_empty\u001b[0m\u001b[0;34m.\u001b[0m\u001b[0mwait\u001b[0m\u001b[0;34m(\u001b[0m\u001b[0mremaining\u001b[0m\u001b[0;34m)\u001b[0m\u001b[0;34m\u001b[0m\u001b[0;34m\u001b[0m\u001b[0m\n\u001b[0m\u001b[1;32m    180\u001b[0m             \u001b[0mitem\u001b[0m \u001b[0;34m=\u001b[0m \u001b[0mself\u001b[0m\u001b[0;34m.\u001b[0m\u001b[0m_get\u001b[0m\u001b[0;34m(\u001b[0m\u001b[0;34m)\u001b[0m\u001b[0;34m\u001b[0m\u001b[0;34m\u001b[0m\u001b[0m\n\u001b[1;32m    181\u001b[0m             \u001b[0mself\u001b[0m\u001b[0;34m.\u001b[0m\u001b[0mnot_full\u001b[0m\u001b[0;34m.\u001b[0m\u001b[0mnotify\u001b[0m\u001b[0;34m(\u001b[0m\u001b[0;34m)\u001b[0m\u001b[0;34m\u001b[0m\u001b[0;34m\u001b[0m\u001b[0m\n",
      "\u001b[0;32m/usr/lib/python3.8/threading.py\u001b[0m in \u001b[0;36mwait\u001b[0;34m(self, timeout)\u001b[0m\n\u001b[1;32m    304\u001b[0m             \u001b[0;32melse\u001b[0m\u001b[0;34m:\u001b[0m\u001b[0;34m\u001b[0m\u001b[0;34m\u001b[0m\u001b[0m\n\u001b[1;32m    305\u001b[0m                 \u001b[0;32mif\u001b[0m \u001b[0mtimeout\u001b[0m \u001b[0;34m>\u001b[0m \u001b[0;36m0\u001b[0m\u001b[0;34m:\u001b[0m\u001b[0;34m\u001b[0m\u001b[0;34m\u001b[0m\u001b[0m\n\u001b[0;32m--> 306\u001b[0;31m                     \u001b[0mgotit\u001b[0m \u001b[0;34m=\u001b[0m \u001b[0mwaiter\u001b[0m\u001b[0;34m.\u001b[0m\u001b[0macquire\u001b[0m\u001b[0;34m(\u001b[0m\u001b[0;32mTrue\u001b[0m\u001b[0;34m,\u001b[0m \u001b[0mtimeout\u001b[0m\u001b[0;34m)\u001b[0m\u001b[0;34m\u001b[0m\u001b[0;34m\u001b[0m\u001b[0m\n\u001b[0m\u001b[1;32m    307\u001b[0m                 \u001b[0;32melse\u001b[0m\u001b[0;34m:\u001b[0m\u001b[0;34m\u001b[0m\u001b[0;34m\u001b[0m\u001b[0m\n\u001b[1;32m    308\u001b[0m                     \u001b[0mgotit\u001b[0m \u001b[0;34m=\u001b[0m \u001b[0mwaiter\u001b[0m\u001b[0;34m.\u001b[0m\u001b[0macquire\u001b[0m\u001b[0;34m(\u001b[0m\u001b[0;32mFalse\u001b[0m\u001b[0;34m)\u001b[0m\u001b[0;34m\u001b[0m\u001b[0;34m\u001b[0m\u001b[0m\n",
      "\u001b[0;31mKeyboardInterrupt\u001b[0m: "
     ]
    }
   ],
   "source": [
    "#!g2.mig\n",
    "pl.seed_everything(228)\n",
    "\n",
    "best_metric = None\n",
    "model_name = 'base_rnn_3.pt'\n",
    "\n",
    "for n in range(150):\n",
    "    stats = train_epoch_distillation(distiller, opt, train_loader, melspec_train, config.device, 0.1)\n",
    "\n",
    "    au_fa_fr = validation(model, val_loader, melspec_val, config.device)\n",
    "    stats['au_fa_fr'] = au_fa_fr\n",
    "    \n",
    "    for k, v in stats.items():\n",
    "        history[k].append(v)\n",
    "\n",
    "    clear_output()\n",
    "    plt.plot(history['au_fa_fr'])\n",
    "    plt.ylabel('Metric')\n",
    "    plt.xlabel('Epoch')\n",
    "    plt.grid()\n",
    "    plt.show()\n",
    "    \n",
    "    plt.plot(history['loss_classification'], label='loss_classification')\n",
    "    plt.plot(history['loss_distillation'], label='loss_distillation')\n",
    "    plt.plot(history['loss'], label='loss')\n",
    "    plt.ylabel('Metric')\n",
    "    plt.xlabel('Epoch')\n",
    "    plt.grid()\n",
    "    plt.legend()\n",
    "    plt.show()\n",
    "    \n",
    "    if best_metric is None or au_fa_fr < best_metric:\n",
    "        best_metric = au_fa_fr\n",
    "        torch.save(model, model_name)\n",
    "        print('Saved model with metric', best_metric)\n",
    "    \n",
    "    print(stats)\n",
    "\n",
    "    print('END OF EPOCH', n)\n",
    "    \n",
    "print('Best:', best_metric)"
   ]
  },
  {
   "cell_type": "code",
   "execution_count": 323,
   "metadata": {
    "cellId": "4ctyw24h5tfl5ws512gjzq"
   },
   "outputs": [
    {
     "name": "stderr",
     "output_type": "stream",
     "text": [
      "102it [00:07, 13.23it/s]\n"
     ]
    },
    {
     "data": {
      "text/plain": [
       "4.8337135407085956e-05"
      ]
     },
     "execution_count": 323,
     "metadata": {},
     "output_type": "execute_result"
    }
   ],
   "source": [
    "#!g2.mig\n",
    "\n",
    "model = CRNN(config).to(config.device)\n",
    "\n",
    "model.gru = nn.RNN(\n",
    "    input_size=model.conv_out_frequency * config.cnn_out_channels,\n",
    "    hidden_size=config.hidden_size,\n",
    "    num_layers=config.gru_num_layers,\n",
    "    dropout=0.1,\n",
    "    bidirectional=config.bidirectional,\n",
    "    batch_first=True\n",
    ").to(config.device)\n",
    "\n",
    "model.load_state_dict(torch.load('base_rnn_3.pt').state_dict())\n",
    "\n",
    "validation(model, val_loader, melspec_val, config.device)"
   ]
  },
  {
   "cell_type": "code",
   "execution_count": 326,
   "metadata": {
    "cellId": "2xj6jsa8snzavhdcp5dizb"
   },
   "outputs": [
    {
     "name": "stderr",
     "output_type": "stream",
     "text": [
      "Global seed set to 228\n"
     ]
    },
    {
     "name": "stdout",
     "output_type": "stream",
     "text": [
      "[INFO] Register count_convNd() for <class 'torch.nn.modules.conv.Conv2d'>.\n",
      "[INFO] Register zero_ops() for <class 'torch.nn.modules.container.Sequential'>.\n",
      "[INFO] Register count_gru() for <class 'torch.nn.modules.rnn.GRU'>.\n",
      "[INFO] Register count_linear() for <class 'torch.nn.modules.linear.Linear'>.\n",
      "[INFO] Register count_convNd() for <class 'torch.nn.modules.conv.Conv2d'>.\n",
      "[INFO] Register zero_ops() for <class 'torch.nn.modules.container.Sequential'>.\n",
      "[INFO] Register count_rnn() for <class 'torch.nn.modules.rnn.RNN'>.\n",
      "[INFO] Register count_linear() for <class 'torch.nn.modules.linear.Linear'>.\n",
      "CR: 7.095, SR: 7.044, Score: 4.949/7.000\n",
      "Distiller(\n",
      "  (student): CRNN(\n",
      "    (conv): Sequential(\n",
      "      (0): Conv2d(1, 4, kernel_size=(5, 20), stride=(5, 8))\n",
      "      (1): Flatten(start_dim=1, end_dim=2)\n",
      "    )\n",
      "    (gru): RNN(32, 20, num_layers=2, batch_first=True, dropout=0.1)\n",
      "    (attention): Attention(\n",
      "      (energy): Sequential(\n",
      "        (0): Linear(in_features=20, out_features=20, bias=True)\n",
      "        (1): Tanh()\n",
      "        (2): Linear(in_features=20, out_features=1, bias=True)\n",
      "      )\n",
      "    )\n",
      "    (classifier): Linear(in_features=20, out_features=2, bias=True)\n",
      "  )\n",
      "  (teacher): CRNN(\n",
      "    (conv): Sequential(\n",
      "      (0): Conv2d(1, 8, kernel_size=(5, 20), stride=(2, 8))\n",
      "      (1): Flatten(start_dim=1, end_dim=2)\n",
      "    )\n",
      "    (gru): GRU(144, 32, num_layers=2, batch_first=True, dropout=0.1)\n",
      "    (attention): Attention(\n",
      "      (energy): Sequential(\n",
      "        (0): Linear(in_features=32, out_features=32, bias=True)\n",
      "        (1): Tanh()\n",
      "        (2): Linear(in_features=32, out_features=1, bias=True)\n",
      "      )\n",
      "    )\n",
      "    (classifier): Linear(in_features=32, out_features=2, bias=True)\n",
      "  )\n",
      "  (proj_s): ModuleList(\n",
      "    (0): Linear(in_features=32, out_features=10, bias=True)\n",
      "    (1): Linear(in_features=20, out_features=10, bias=True)\n",
      "    (2): Linear(in_features=20, out_features=10, bias=True)\n",
      "  )\n",
      "  (proj_t): ModuleList(\n",
      "    (0): Linear(in_features=144, out_features=10, bias=True)\n",
      "    (1): Linear(in_features=32, out_features=10, bias=True)\n",
      "    (2): Linear(in_features=32, out_features=10, bias=True)\n",
      "  )\n",
      ")\n"
     ]
    },
    {
     "name": "stderr",
     "output_type": "stream",
     "text": [
      "/usr/local/lib/python3.8/dist-packages/torch/nn/modules/rnn.py:837: UserWarning: RNN module weights are not part of single contiguous chunk of memory. This means they need to be compacted at every call, possibly greatly increasing memory usage. To compact weights again call flatten_parameters(). (Triggered internally at  ../aten/src/ATen/native/cudnn/RNN.cpp:924.)\n",
      "  result = _VF.gru(input, hx, self._flat_weights, self.bias, self.num_layers,\n",
      "/usr/local/lib/python3.8/dist-packages/torch/nn/modules/rnn.py:268: UserWarning: RNN module weights are not part of single contiguous chunk of memory. This means they need to be compacted at every call, possibly greatly increasing memory usage. To compact weights again call flatten_parameters(). (Triggered internally at  ../aten/src/ATen/native/cudnn/RNN.cpp:924.)\n",
      "  result = _impl(input, hx, self._flat_weights, self.bias, self.num_layers,\n"
     ]
    }
   ],
   "source": [
    "#!g2.mig\n",
    "pl.seed_everything(228)\n",
    "\n",
    "history = defaultdict(list)\n",
    "\n",
    "config = TaskConfig(\n",
    "    hidden_size=20,\n",
    "    cnn_out_channels=4,\n",
    "    stride=(5, 8,),\n",
    "    kernel_size=(5, 20,),\n",
    "    learning_rate=6e-4,\n",
    "    weight_decay=0,\n",
    ")\n",
    "\n",
    "model = CRNN(config).to(config.device)\n",
    "\n",
    "model.gru = nn.RNN(\n",
    "    input_size=model.conv_out_frequency * config.cnn_out_channels,\n",
    "    hidden_size=config.hidden_size,\n",
    "    num_layers=config.gru_num_layers,\n",
    "    dropout=0.1,\n",
    "    bidirectional=config.bidirectional,\n",
    "    batch_first=True\n",
    ").to(config.device)\n",
    "\n",
    "base_model = CRNN(TaskConfig(hidden_size=32)).to(config.device)\n",
    "base_model.load_state_dict(torch.load('base_model.pt'))\n",
    "\n",
    "distiller_config = DistillationConfig(weights=np.array([0.2, 0.005, 0.01, 0.2]) * 2)\n",
    "sample_batch = melspec_train(torch.rand((1, config.sample_rate)).to(config.device))\n",
    "distiller = Distiller(distiller_config, model, base_model, sample_batch).to(config.device)\n",
    "\n",
    "get_model_score(base_model, model, sample_batch)\n",
    "\n",
    "print(distiller)\n",
    "\n",
    "opt = torch.optim.Adam(\n",
    "    distiller.parameters(),\n",
    "    lr=config.learning_rate,\n",
    "    weight_decay=config.weight_decay\n",
    ")\n",
    "\n",
    "with torch.no_grad():\n",
    "    distiller(sample_batch)"
   ]
  },
  {
   "cell_type": "code",
   "execution_count": 327,
   "metadata": {
    "cellId": "almovnskbdvc04ox5oovm"
   },
   "outputs": [
    {
     "data": {
      "image/png": "[encoded data removed]",
      "text/plain": [
       "<Figure size 432x288 with 1 Axes>"
      ]
     },
     "metadata": {
      "needs_background": "light"
     },
     "output_type": "display_data"
    },
    {
     "data": {
      "image/png": "[encoded data removed]",
      "text/plain": [
       "<Figure size 432x288 with 1 Axes>"
      ]
     },
     "metadata": {
      "needs_background": "light"
     },
     "output_type": "display_data"
    },
    {
     "name": "stdout",
     "output_type": "stream",
     "text": [
      "defaultdict(<class 'float'>, {'loss_classification': 0.011684317141771317, 'loss_distillation': 0.0042064911685884, 'loss': 0.015470159240067005, 'au_fa_fr': 5.213249566867937e-05})\n",
      "Best: 4.5305621235876124e-05\n",
      "END OF EPOCH 99\n"
     ]
    }
   ],
   "source": [
    "#!g2.mig\n",
    "pl.seed_everything(228)\n",
    "\n",
    "best_metric = None\n",
    "model_name = 'base_rnn_4.pt'\n",
    "\n",
    "for n in range(100):\n",
    "    stats = train_epoch_distillation(distiller, opt, train_loader, melspec_train, config.device, 0.1)\n",
    "\n",
    "    au_fa_fr = validation(model, val_loader, melspec_val, config.device)\n",
    "    stats['au_fa_fr'] = au_fa_fr\n",
    "    \n",
    "    for k, v in stats.items():\n",
    "        history[k].append(v)\n",
    "\n",
    "    clear_output()\n",
    "    plt.plot(history['au_fa_fr'])\n",
    "    plt.ylabel('Metric')\n",
    "    plt.xlabel('Epoch')\n",
    "    plt.grid()\n",
    "    plt.show()\n",
    "    \n",
    "    plt.plot(history['loss_classification'], label='loss_classification')\n",
    "    plt.plot(history['loss_distillation'], label='loss_distillation')\n",
    "    plt.plot(history['loss'], label='loss')\n",
    "    plt.ylabel('Metric')\n",
    "    plt.xlabel('Epoch')\n",
    "    plt.grid()\n",
    "    plt.legend()\n",
    "    plt.show()\n",
    "    \n",
    "    if best_metric is None or au_fa_fr < best_metric:\n",
    "        best_metric = au_fa_fr\n",
    "        torch.save(model, model_name)\n",
    "        print('Saved model with metric', best_metric)\n",
    "    \n",
    "    print(stats)\n",
    "    print('Best:', best_metric)\n",
    "    \n",
    "    print('END OF EPOCH', n)"
   ]
  },
  {
   "cell_type": "code",
   "execution_count": 340,
   "metadata": {
    "cellId": "kehlj4ppa3e0smxrjwgcs3"
   },
   "outputs": [
    {
     "name": "stderr",
     "output_type": "stream",
     "text": [
      "Global seed set to 228\n"
     ]
    },
    {
     "name": "stdout",
     "output_type": "stream",
     "text": [
      "[INFO] Register count_convNd() for <class 'torch.nn.modules.conv.Conv2d'>.\n",
      "[INFO] Register zero_ops() for <class 'torch.nn.modules.container.Sequential'>.\n",
      "[INFO] Register count_gru() for <class 'torch.nn.modules.rnn.GRU'>.\n",
      "[INFO] Register count_linear() for <class 'torch.nn.modules.linear.Linear'>.\n",
      "[INFO] Register count_convNd() for <class 'torch.nn.modules.conv.Conv2d'>.\n",
      "[INFO] Register zero_ops() for <class 'torch.nn.modules.container.Sequential'>.\n",
      "[INFO] Register count_rnn() for <class 'torch.nn.modules.rnn.RNN'>.\n",
      "[INFO] Register count_linear() for <class 'torch.nn.modules.linear.Linear'>.\n",
      "CR: 7.623, SR: 8.507, Score: 5.645/7.000\n",
      "Distiller(\n",
      "  (student): CRNN(\n",
      "    (conv): Sequential(\n",
      "      (0): Conv2d(1, 3, kernel_size=(5, 20), stride=(5, 8))\n",
      "      (1): Flatten(start_dim=1, end_dim=2)\n",
      "    )\n",
      "    (gru): RNN(24, 20, num_layers=2, batch_first=True, dropout=0.1)\n",
      "    (attention): Attention(\n",
      "      (energy): Sequential(\n",
      "        (0): Linear(in_features=20, out_features=20, bias=True)\n",
      "        (1): Tanh()\n",
      "        (2): Linear(in_features=20, out_features=1, bias=True)\n",
      "      )\n",
      "    )\n",
      "    (classifier): Linear(in_features=20, out_features=2, bias=True)\n",
      "  )\n",
      "  (teacher): CRNN(\n",
      "    (conv): Sequential(\n",
      "      (0): Conv2d(1, 8, kernel_size=(5, 20), stride=(2, 8))\n",
      "      (1): Flatten(start_dim=1, end_dim=2)\n",
      "    )\n",
      "    (gru): GRU(144, 32, num_layers=2, batch_first=True, dropout=0.1)\n",
      "    (attention): Attention(\n",
      "      (energy): Sequential(\n",
      "        (0): Linear(in_features=32, out_features=32, bias=True)\n",
      "        (1): Tanh()\n",
      "        (2): Linear(in_features=32, out_features=1, bias=True)\n",
      "      )\n",
      "    )\n",
      "    (classifier): Linear(in_features=32, out_features=2, bias=True)\n",
      "  )\n",
      "  (proj_s): ModuleList(\n",
      "    (0): Linear(in_features=24, out_features=10, bias=True)\n",
      "    (1): Linear(in_features=20, out_features=10, bias=True)\n",
      "    (2): Linear(in_features=20, out_features=10, bias=True)\n",
      "  )\n",
      "  (proj_t): ModuleList(\n",
      "    (0): Linear(in_features=144, out_features=10, bias=True)\n",
      "    (1): Linear(in_features=32, out_features=10, bias=True)\n",
      "    (2): Linear(in_features=32, out_features=10, bias=True)\n",
      "  )\n",
      ")\n"
     ]
    },
    {
     "name": "stderr",
     "output_type": "stream",
     "text": [
      "/usr/local/lib/python3.8/dist-packages/torch/nn/modules/rnn.py:837: UserWarning: RNN module weights are not part of single contiguous chunk of memory. This means they need to be compacted at every call, possibly greatly increasing memory usage. To compact weights again call flatten_parameters(). (Triggered internally at  ../aten/src/ATen/native/cudnn/RNN.cpp:924.)\n",
      "  result = _VF.gru(input, hx, self._flat_weights, self.bias, self.num_layers,\n",
      "/usr/local/lib/python3.8/dist-packages/torch/nn/modules/rnn.py:268: UserWarning: RNN module weights are not part of single contiguous chunk of memory. This means they need to be compacted at every call, possibly greatly increasing memory usage. To compact weights again call flatten_parameters(). (Triggered internally at  ../aten/src/ATen/native/cudnn/RNN.cpp:924.)\n",
      "  result = _impl(input, hx, self._flat_weights, self.bias, self.num_layers,\n"
     ]
    }
   ],
   "source": [
    "#!g2.mig\n",
    "pl.seed_everything(228)\n",
    "\n",
    "history = defaultdict(list)\n",
    "\n",
    "config = TaskConfig(\n",
    "    hidden_size=20,\n",
    "    cnn_out_channels=3,\n",
    "    stride=(5, 8,),\n",
    "    kernel_size=(5, 20,),\n",
    "    learning_rate=6e-4,\n",
    "    weight_decay=0,\n",
    ")\n",
    "\n",
    "model = CRNN(config).to(config.device)\n",
    "\n",
    "model.gru = nn.RNN(\n",
    "    input_size=model.conv_out_frequency * config.cnn_out_channels,\n",
    "    hidden_size=config.hidden_size,\n",
    "    num_layers=config.gru_num_layers,\n",
    "    dropout=0.1,\n",
    "    bidirectional=config.bidirectional,\n",
    "    batch_first=True\n",
    ").to(config.device)\n",
    "\n",
    "base_model = CRNN(TaskConfig(hidden_size=32)).to(config.device)\n",
    "base_model.load_state_dict(torch.load('base_model.pt'))\n",
    "\n",
    "distiller_config = DistillationConfig(weights=np.array([0.2, 0.005, 0.01, 0.2]) * 2)\n",
    "sample_batch = melspec_train(torch.rand((1, config.sample_rate)).to(config.device))\n",
    "distiller = Distiller(distiller_config, model, base_model, sample_batch).to(config.device)\n",
    "\n",
    "get_model_score(base_model, model, sample_batch)\n",
    "\n",
    "print(distiller)\n",
    "\n",
    "opt = torch.optim.Adam(\n",
    "    distiller.parameters(),\n",
    "    lr=config.learning_rate,\n",
    "    weight_decay=config.weight_decay\n",
    ")\n",
    "\n",
    "with torch.no_grad():\n",
    "    distiller(sample_batch)"
   ]
  },
  {
   "cell_type": "code",
   "execution_count": 341,
   "metadata": {
    "cellId": "vitsx94zjgejv864qmr6vn"
   },
   "outputs": [
    {
     "data": {
      "text/plain": [
       "{'wav': tensor([ 0.0044,  0.0048,  0.0056,  ..., -0.0068, -0.0059, -0.0060]),\n",
       " 'keywors': 'eight',\n",
       " 'label': 0}"
      ]
     },
     "execution_count": 341,
     "metadata": {},
     "output_type": "execute_result"
    }
   ],
   "source": [
    "#!g2.mig\n",
    "dataset = SpeechCommandDataset(\n",
    "    path2dir='speech_commands', keywords=TaskConfig.keyword\n",
    ")\n",
    "\n",
    "dataset[0]"
   ]
  },
  {
   "cell_type": "code",
   "execution_count": 350,
   "metadata": {
    "cellId": "3cjwp8nuac91qryf3h9j2m"
   },
   "outputs": [],
   "source": [
    "#!g2.mig\n",
    "# Here we are obliged to use shuffle=False because of our sampler with randomness inside.\n",
    "\n",
    "train_loader = DataLoader(train_set, batch_size=TaskConfig.batch_size,\n",
    "                          shuffle=False, collate_fn=Collator(),\n",
    "                          sampler=train_sampler, num_workers=4)\n",
    "\n",
    "val_loader = DataLoader(val_set, batch_size=TaskConfig.batch_size,\n",
    "                        shuffle=False, collate_fn=Collator(), num_workers=4)"
   ]
  },
  {
   "cell_type": "code",
   "execution_count": 351,
   "metadata": {
    "cellId": "xuwhxrfgsg7fim0t8ke9oo"
   },
   "outputs": [
    {
     "data": {
      "text/plain": [
       "(tensor([[-1.0343e-02,  1.0318e-02,  1.0143e-02,  ..., -6.7497e-03,\n",
       "          -9.8367e-04,  7.6373e-03],\n",
       "         [ 6.3324e-04,  7.2479e-04,  7.6294e-04,  ...,  1.1673e-03,\n",
       "           1.2970e-03,  1.2741e-03],\n",
       "         [ 4.1528e-03, -2.0556e-03, -1.6924e-03,  ..., -2.9104e-03,\n",
       "          -4.2050e-04,  1.3760e-04],\n",
       "         ...,\n",
       "         [-1.5602e-04,  1.7402e-03,  3.4225e-03,  ..., -5.3442e-03,\n",
       "          -1.1569e-03, -1.8306e-03],\n",
       "         [ 1.1617e-03,  6.7727e-04,  4.9065e-04,  ..., -6.9232e-05,\n",
       "           2.1935e-03,  3.2144e-03],\n",
       "         [-6.1035e-05, -6.1035e-05, -6.1035e-05,  ..., -6.1035e-05,\n",
       "          -3.0518e-05, -3.0518e-05]]),\n",
       " tensor([0, 0, 1, 1, 0, 1, 0, 1, 0, 0, 1, 1, 0, 0, 0, 1, 0, 0, 1, 1, 1, 0, 0, 1,\n",
       "         1, 1, 0, 0, 0, 1, 1, 0, 0, 1, 0, 1, 0, 0, 0, 1, 0, 0, 0, 0, 1, 0, 1, 0,\n",
       "         1, 1, 1, 0, 1, 0, 1, 1, 0, 0, 0, 1, 0, 0, 0, 0, 0, 1, 0, 0, 0, 0, 1, 0,\n",
       "         1, 1, 1, 0, 1, 1, 1, 1, 0, 0, 1, 0, 1, 0, 1, 1, 1, 0, 0, 0, 1, 0, 1, 1,\n",
       "         1, 0, 0, 1, 1, 0, 1, 1, 1, 1, 0, 0, 1, 0, 0, 1, 0, 0, 1, 1, 1, 1, 1, 0,\n",
       "         1, 0, 1, 1, 0, 1, 1, 0]))"
      ]
     },
     "execution_count": 351,
     "metadata": {},
     "output_type": "execute_result"
    }
   ],
   "source": [
    "#!g2.mig\n",
    "next(iter(train_loader))"
   ]
  },
  {
   "cell_type": "code",
   "execution_count": 352,
   "metadata": {
    "cellId": "khszl9v9lyrw4jn7anj0q"
   },
   "outputs": [
    {
     "data": {
      "image/png": "[encoded data removed]",
      "text/plain": [
       "<Figure size 432x288 with 1 Axes>"
      ]
     },
     "metadata": {
      "needs_background": "light"
     },
     "output_type": "display_data"
    },
    {
     "data": {
      "image/png": "[encoded data removed]",
      "text/plain": [
       "<Figure size 432x288 with 1 Axes>"
      ]
     },
     "metadata": {
      "needs_background": "light"
     },
     "output_type": "display_data"
    },
    {
     "name": "stdout",
     "output_type": "stream",
     "text": [
      "defaultdict(<class 'float'>, {'loss_classification': 0.011555212549865246, 'loss_distillation': 0.005591501947492361, 'loss': 0.01658756472170353, 'au_fa_fr': 5.697217675696909e-05})\n",
      "Best: 5.170283224283861e-05\n",
      "END OF EPOCH 99\n"
     ]
    }
   ],
   "source": [
    "#!g2.mig\n",
    "pl.seed_everything(228)\n",
    "\n",
    "best_metric = None\n",
    "model_name = 'base_rnn_5.pt'\n",
    "\n",
    "for n in range(100):\n",
    "    stats = train_epoch_distillation(distiller, opt, train_loader, melspec_train, config.device, 0.1)\n",
    "\n",
    "    au_fa_fr = validation(model, val_loader, melspec_val, config.device)\n",
    "    stats['au_fa_fr'] = au_fa_fr\n",
    "    \n",
    "    for k, v in stats.items():\n",
    "        history[k].append(v)\n",
    "\n",
    "    clear_output()\n",
    "    plt.plot(history['au_fa_fr'])\n",
    "    plt.ylabel('Metric')\n",
    "    plt.xlabel('Epoch')\n",
    "    plt.grid()\n",
    "    plt.show()\n",
    "    \n",
    "    plt.plot(history['loss_classification'], label='loss_classification')\n",
    "    plt.plot(history['loss_distillation'], label='loss_distillation')\n",
    "    plt.plot(history['loss'], label='loss')\n",
    "    plt.ylabel('Metric')\n",
    "    plt.xlabel('Epoch')\n",
    "    plt.grid()\n",
    "    plt.legend()\n",
    "    plt.show()\n",
    "    \n",
    "    if best_metric is None or au_fa_fr < best_metric:\n",
    "        best_metric = au_fa_fr\n",
    "        torch.save(model, model_name)\n",
    "        print('Saved model with metric', best_metric)\n",
    "    \n",
    "    print(stats)\n",
    "    print('Best:', best_metric)\n",
    "    \n",
    "    print('END OF EPOCH', n)"
   ]
  },
  {
   "cell_type": "code",
   "execution_count": 359,
   "metadata": {
    "cellId": "m69yzv5ed7cbkwbpdnfql"
   },
   "outputs": [],
   "source": [
    "#!g2.mig\n",
    "def get_model_score_half(base_model, model, batch):\n",
    "    cr = get_size_in_megabytes(base_model) / get_size_in_megabytes(copy.deepcopy(model).half())\n",
    "    sr = get_macs(base_model, batch) / get_macs(model, batch)\n",
    "    \n",
    "    print('CR: {:.3f}, SR: {:.3f}, Score: {:.3f}/7.000'.format(cr, sr, 0.35 * (min(10, sr) + min(10, cr))))\n",
    "    \n",
    "@torch.no_grad()\n",
    "def validation_half(model, loader, log_melspec, device):\n",
    "    model = model.eval().half()\n",
    "\n",
    "    val_losses, accs, FAs, FRs = [], [], [], []\n",
    "    all_probs, all_labels = [], []\n",
    "    for i, (batch, labels) in tqdm(enumerate(loader)):\n",
    "        batch, labels = batch.to(device), labels.to(device)\n",
    "        batch = log_melspec(batch).half()\n",
    "\n",
    "        output = model(batch)\n",
    "        # we need probabilities so we use softmax & CE separately\n",
    "        probs = F.softmax(output, dim=-1)\n",
    "        loss = F.cross_entropy(output, labels)\n",
    "\n",
    "        # logging\n",
    "        argmax_probs = torch.argmax(probs, dim=-1)\n",
    "        all_probs.append(probs[:, 1].cpu())\n",
    "        all_labels.append(labels.cpu())\n",
    "        val_losses.append(loss.item())\n",
    "        accs.append(\n",
    "            torch.sum(argmax_probs == labels).item() /  # ???\n",
    "            torch.numel(argmax_probs)\n",
    "        )\n",
    "        FA, FR = count_FA_FR(argmax_probs, labels)\n",
    "        FAs.append(FA)\n",
    "        FRs.append(FR)\n",
    "\n",
    "    # area under FA/FR curve for whole loader\n",
    "    au_fa_fr = get_au_fa_fr(torch.cat(all_probs, dim=0).cpu(), all_labels)\n",
    "    return au_fa_fr"
   ]
  },
  {
   "cell_type": "markdown",
   "metadata": {
    "cellId": "1spp1nrgn3w3xb5x4vkoiy",
    "execution_id": "15c5a6c2-c7df-4f6a-bbd0-8e47288ec219"
   },
   "source": [
    "# Добавим fp16 к лучшей модели"
   ]
  },
  {
   "cell_type": "code",
   "execution_count": 363,
   "metadata": {
    "cellId": "dg5g8h316rc41cv7bg6k1p"
   },
   "outputs": [
    {
     "name": "stderr",
     "output_type": "stream",
     "text": [
      "Global seed set to 228\n"
     ]
    },
    {
     "name": "stdout",
     "output_type": "stream",
     "text": [
      "[INFO] Register count_convNd() for <class 'torch.nn.modules.conv.Conv2d'>.\n",
      "[INFO] Register zero_ops() for <class 'torch.nn.modules.container.Sequential'>.\n",
      "[INFO] Register count_gru() for <class 'torch.nn.modules.rnn.GRU'>.\n",
      "[INFO] Register count_linear() for <class 'torch.nn.modules.linear.Linear'>.\n",
      "[INFO] Register count_convNd() for <class 'torch.nn.modules.conv.Conv2d'>.\n",
      "[INFO] Register zero_ops() for <class 'torch.nn.modules.container.Sequential'>.\n",
      "[INFO] Register count_rnn() for <class 'torch.nn.modules.rnn.RNN'>.\n",
      "[INFO] Register count_linear() for <class 'torch.nn.modules.linear.Linear'>.\n",
      "CR: 12.045, SR: 8.507, Score: 6.477/7.000\n"
     ]
    },
    {
     "name": "stderr",
     "output_type": "stream",
     "text": [
      "/usr/local/lib/python3.8/dist-packages/torch/nn/modules/rnn.py:837: UserWarning: RNN module weights are not part of single contiguous chunk of memory. This means they need to be compacted at every call, possibly greatly increasing memory usage. To compact weights again call flatten_parameters(). (Triggered internally at  ../aten/src/ATen/native/cudnn/RNN.cpp:924.)\n",
      "  result = _VF.gru(input, hx, self._flat_weights, self.bias, self.num_layers,\n",
      "/usr/local/lib/python3.8/dist-packages/torch/nn/modules/rnn.py:268: UserWarning: RNN module weights are not part of single contiguous chunk of memory. This means they need to be compacted at every call, possibly greatly increasing memory usage. To compact weights again call flatten_parameters(). (Triggered internally at  ../aten/src/ATen/native/cudnn/RNN.cpp:924.)\n",
      "  result = _impl(input, hx, self._flat_weights, self.bias, self.num_layers,\n"
     ]
    }
   ],
   "source": [
    "#!g2.mig\n",
    "pl.seed_everything(228)\n",
    "\n",
    "model = torch.load('base_rnn_5.pt')\n",
    "\n",
    "base_model = CRNN(TaskConfig(hidden_size=32)).to(config.device)\n",
    "base_model.load_state_dict(torch.load('base_model.pt'))\n",
    "\n",
    "get_model_score_half(base_model, model, sample_batch)\n",
    "\n",
    "opt = torch.optim.Adam(\n",
    "    distiller.parameters(),\n",
    "    lr=config.learning_rate,\n",
    "    weight_decay=config.weight_decay\n",
    ")\n",
    "\n",
    "with torch.no_grad():\n",
    "    distiller(sample_batch)"
   ]
  },
  {
   "cell_type": "code",
   "execution_count": 364,
   "metadata": {
    "cellId": "87ld3y9gtoahuduqohz1fw"
   },
   "outputs": [
    {
     "name": "stderr",
     "output_type": "stream",
     "text": [
      "102it [00:07, 13.71it/s]\n"
     ]
    },
    {
     "data": {
      "text/plain": [
       "5.132090919764682e-05"
      ]
     },
     "execution_count": 364,
     "metadata": {},
     "output_type": "execute_result"
    }
   ],
   "source": [
    "#!g2.mig\n",
    "au_fa_fr = validation_half(model.half(), val_loader, melspec_val, config.device)\n",
    "au_fa_fr"
   ]
  },
  {
   "cell_type": "code",
   "execution_count": 365,
   "metadata": {
    "cellId": "m89c9a3mrry65be7gqm8"
   },
   "outputs": [
    {
     "data": {
      "text/plain": [
       "'torch.cuda.HalfTensor'"
      ]
     },
     "execution_count": 365,
     "metadata": {},
     "output_type": "execute_result"
    }
   ],
   "source": [
    "#!g2.mig\n",
    "next(iter(model.parameters())).type()"
   ]
  },
  {
   "cell_type": "code",
   "execution_count": 370,
   "metadata": {
    "cellId": "16loaw0teektziorm8o6"
   },
   "outputs": [
    {
     "data": {
      "text/plain": [
       "{'wav': tensor([ 0.0044,  0.0048,  0.0056,  ..., -0.0068, -0.0059, -0.0060]),\n",
       " 'keywors': 'eight',\n",
       " 'label': 0}"
      ]
     },
     "execution_count": 370,
     "metadata": {},
     "output_type": "execute_result"
    }
   ],
   "source": [
    "#!g2.mig\n",
    "dataset = SpeechCommandDataset(\n",
    "    path2dir='speech_commands', keywords=TaskConfig.keyword\n",
    ")\n",
    "\n",
    "dataset[0]"
   ]
  },
  {
   "cell_type": "code",
   "execution_count": 406,
   "metadata": {
    "cellId": "e3g7431g1fvffcy2scea06"
   },
   "outputs": [
    {
     "data": {
      "text/plain": [
       "(tensor([[ 1.5259e-05,  1.5259e-05,  1.5259e-05,  ..., -5.3406e-05,\n",
       "          -6.1035e-05, -8.3923e-05],\n",
       "         [ 1.5259e-05,  6.8665e-05,  1.2207e-04,  ..., -7.6294e-05,\n",
       "          -6.1035e-05, -9.1553e-05],\n",
       "         [-3.6226e-02, -5.3749e-02, -4.3669e-02,  ..., -3.7732e-02,\n",
       "          -6.1216e-02, -3.3628e-02],\n",
       "         ...,\n",
       "         [ 8.2397e-04,  2.6245e-03,  3.4180e-03,  ..., -7.6294e-04,\n",
       "          -1.1902e-03, -1.4343e-03],\n",
       "         [-8.1667e-03, -2.7156e-03,  1.4752e-03,  ...,  3.7722e-03,\n",
       "           5.2425e-03, -7.3909e-04],\n",
       "         [ 6.8940e-04, -8.8056e-03,  4.5047e-03,  ...,  2.5785e-03,\n",
       "          -2.9818e-03, -4.2547e-03]]),\n",
       " tensor([0, 1, 1, 1, 1, 0, 0, 0, 0, 0, 0, 0, 1, 1, 0, 0, 1, 0, 1, 0, 0, 1, 1, 0,\n",
       "         0, 1, 0, 0, 0, 0, 1, 0, 1, 1, 1, 0, 1, 1, 0, 0, 0, 1, 0, 0, 1, 1, 0, 1,\n",
       "         1, 0, 1, 1, 1, 0, 0, 0, 1, 1, 0, 0, 1, 0, 0, 1, 0, 0, 1, 1, 0, 0, 1, 0,\n",
       "         0, 0, 1, 1, 1, 0, 0, 0, 1, 1, 0, 0, 1, 0, 0, 1, 0, 1, 1, 0, 0, 1, 1, 0,\n",
       "         0, 1, 1, 0, 0, 0, 0, 0, 1, 0, 1, 1, 0, 0, 0, 1, 1, 0, 1, 0, 1, 1, 1, 0,\n",
       "         1, 1, 1, 0, 0, 0, 1, 0]))"
      ]
     },
     "execution_count": 406,
     "metadata": {},
     "output_type": "execute_result"
    }
   ],
   "source": [
    "#!g2.mig\n",
    "# Here we are obliged to use shuffle=False because of our sampler with randomness inside.\n",
    "\n",
    "train_loader = DataLoader(train_set, batch_size=TaskConfig.batch_size,\n",
    "                          shuffle=False, collate_fn=Collator(),\n",
    "                          sampler=train_sampler)\n",
    "\n",
    "val_loader = DataLoader(val_set, batch_size=TaskConfig.batch_size,\n",
    "                        shuffle=False, collate_fn=Collator())\n",
    "next(iter(train_loader))"
   ]
  },
  {
   "cell_type": "code",
   "execution_count": 410,
   "metadata": {
    "cellId": "wr931hpzwqmvfdhle5wya"
   },
   "outputs": [
    {
     "name": "stderr",
     "output_type": "stream",
     "text": [
      "Global seed set to 228\n",
      "/usr/local/lib/python3.8/dist-packages/torch/nn/modules/rnn.py:837: UserWarning: RNN module weights are not part of single contiguous chunk of memory. This means they need to be compacted at every call, possibly greatly increasing memory usage. To compact weights again call flatten_parameters(). (Triggered internally at  ../aten/src/ATen/native/cudnn/RNN.cpp:924.)\n",
      "  result = _VF.gru(input, hx, self._flat_weights, self.bias, self.num_layers,\n",
      "/usr/local/lib/python3.8/dist-packages/torch/nn/modules/rnn.py:268: UserWarning: RNN module weights are not part of single contiguous chunk of memory. This means they need to be compacted at every call, possibly greatly increasing memory usage. To compact weights again call flatten_parameters(). (Triggered internally at  ../aten/src/ATen/native/cudnn/RNN.cpp:924.)\n",
      "  result = _impl(input, hx, self._flat_weights, self.bias, self.num_layers,\n",
      "2it [00:00, 15.11it/s]"
     ]
    },
    {
     "name": "stdout",
     "output_type": "stream",
     "text": [
      "[INFO] Register count_convNd() for <class 'torch.nn.modules.conv.Conv2d'>.\n",
      "[INFO] Register zero_ops() for <class 'torch.nn.modules.container.Sequential'>.\n",
      "[INFO] Register count_gru() for <class 'torch.nn.modules.rnn.GRU'>.\n",
      "[INFO] Register count_linear() for <class 'torch.nn.modules.linear.Linear'>.\n",
      "[INFO] Register count_convNd() for <class 'torch.nn.modules.conv.Conv2d'>.\n",
      "[INFO] Register zero_ops() for <class 'torch.nn.modules.container.Sequential'>.\n",
      "[INFO] Register count_rnn() for <class 'torch.nn.modules.rnn.RNN'>.\n",
      "[INFO] Register count_linear() for <class 'torch.nn.modules.linear.Linear'>.\n",
      "CR: 12.045, SR: 8.510, Score: 6.478/7.000\n",
      "tensor([20317, 46260,  4665,  ..., 61251,  6623, 28722])\n",
      "tensor([40169, 61937, 54708,  ..., 33714, 52841, 16231])\n"
     ]
    },
    {
     "name": "stderr",
     "output_type": "stream",
     "text": [
      "102it [00:10,  9.64it/s]\n"
     ]
    },
    {
     "data": {
      "text/plain": [
       "5.132090919764682e-05"
      ]
     },
     "execution_count": 410,
     "metadata": {},
     "output_type": "execute_result"
    }
   ],
   "source": [
    "#!g2.mig\n",
    "pl.seed_everything(228)\n",
    "\n",
    "model = torch.load('base_rnn_5.pt')\n",
    "\n",
    "base_model = CRNN(TaskConfig(hidden_size=32)).to(config.device)\n",
    "base_model.load_state_dict(torch.load('base_model.pt'))\n",
    "\n",
    "get_model_score_half(base_model, model, sample_batch)\n",
    "    \n",
    "print(val_indexes)\n",
    "print(train_indexes)\n",
    "\n",
    "au_fa_fr = validation_half(model.half(), val_loader, melspec_val, config.device)\n",
    "au_fa_fr"
   ]
  }
 ],
 "metadata": {
  "accelerator": "GPU",
  "colab": {
   "collapsed_sections": [],
   "name": "seminar.ipynb",
   "provenance": [],
   "toc_visible": true
  },
  "kernelspec": {
   "display_name": "Python 3",
   "language": "python",
   "name": "python3"
  },
  "language_info": {
   "codemirror_mode": {
    "name": "ipython",
    "version": 3
   },
   "file_extension": ".py",
   "mimetype": "text/x-python",
   "name": "python",
   "nbconvert_exporter": "python",
   "pygments_lexer": "ipython3",
   "version": "3.8.5"
  },
  "notebookId": "db136b71-0e2e-442e-9b79-60dab84308c9",
  "notebookPath": "seminar.ipynb"
 },
 "nbformat": 4,
 "nbformat_minor": 4
}
